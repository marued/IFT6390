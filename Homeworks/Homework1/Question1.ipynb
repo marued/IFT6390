{
 "cells": [
  {
   "cell_type": "markdown",
   "metadata": {},
   "source": [
    "# Question 1"
   ]
  },
  {
   "cell_type": "markdown",
   "metadata": {},
   "source": [
    "Probabilities:\n",
    "\\begin{equation*}\n",
    "P(Cancer+) = 1.5%\n",
    "\\end{equation*}\n",
    "\n",
    "\\begin{equation*}\n",
    "P(Cancer-) = 98.5%\n",
    "\\end{equation*}\n",
    "\n",
    "\\begin{equation*}\n",
    "P(T+ | Cancer+) = 87%\n",
    "\\end{equation*}\n",
    "\n",
    "\\begin{equation*}\n",
    "P(T+ | Cancer-) = 9.6%\n",
    "\\end{equation*}\n",
    "\n",
    "\n",
    "Bayes rule:\n",
    "\\begin{equation*}\n",
    "P(A|B) = \\frac{P(B|A)P(A)} {P(B)}\n",
    "\\end{equation*}\n",
    "\n",
    "\\begin{equation*}\n",
    "P(Cancer+|T+) = \\frac{P(T+|C+)P(C+)} {P(T+)}\n",
    "\\end{equation*}\n",
    "\n",
    "Total probability of P(T+)\n",
    "\\begin{equation*}\n",
    "P(T+) = P(T+ | C-)P(C-) + P(T+ | C+)P(C+)\n",
    "\\end{equation*}\n",
    "\n",
    "\\begin{equation*}\n",
    "P(T+) = 0.091*0.985+0.87*0.015\n",
    "\\end{equation*}\n",
    "\\begin{equation*}\n",
    "P(T+) = 0.103\n",
    "\\end{equation*}\n",
    "\n",
    "Replace with values:\n",
    "\\begin{equation*}\n",
    "P(C+|T+) = \\frac{0.87*0.015}{0.103}\n",
    "\\end{equation*}\n",
    "\\begin{equation*}\n",
    "P(C+|T+) = 0.127\n",
    "\\end{equation*}"
   ]
  },
  {
   "cell_type": "markdown",
   "metadata": {},
   "source": [
    "### Answer\n",
    "\n",
    "The real anser would have to be **E**. Since the probability of having cancer is really low, and since the tests have a fairly hight change of being positive enven though you don't have cancer does not help the end probability of having cancer knowing the test was positive. "
   ]
  },
  {
   "cell_type": "markdown",
   "metadata": {},
   "source": [
    "# Question 2"
   ]
  },
  {
   "cell_type": "markdown",
   "metadata": {},
   "source": [
    "### 1.\n",
    "Volume for hyper cubes:"
   ]
  },
  {
   "cell_type": "markdown",
   "metadata": {},
   "source": [
    "\\begin{equation*}\n",
    "V=c^d\n",
    "\\end{equation*}"
   ]
  },
  {
   "attachments": {
    "image.png": {
     "image/png": "[encoded data removed]"
    }
   },
   "cell_type": "markdown",
   "metadata": {},
   "source": [
    "### 2. \n",
    "The probability density must integrate to 1 when considering the whole region.\n",
    "![image.png](attachment:image.png)"
   ]
  },
  {
   "cell_type": "markdown",
   "metadata": {},
   "source": [
    "### 3.\n",
    "\n"
   ]
  },
  {
   "cell_type": "markdown",
   "metadata": {},
   "source": [
    "\\begin{equation*}\n",
    "P(WholeRegion) = P(T) = 1 = \\frac{c^d}{c^d}\n",
    "\\end{equation*}\n",
    "\n",
    "\\begin{equation*}\n",
    "P(InternalCube) = P(I) = \\frac{(c-2*0.03*c)^d}{c^d}\n",
    "\\end{equation*}\n",
    "\n",
    "\\begin{equation*}\n",
    "P(Edge) = P(E) = P(T) - P(I)\n",
    "\\end{equation*}"
   ]
  },
  {
   "cell_type": "markdown",
   "metadata": {},
   "source": [
    "### 4.\n",
    "\n",
    "\\begin{equation*}\n",
    "P(E) = 1- \\frac{(c-2*0.03*c)^d}{c^d}\n",
    "\\end{equation*}\n"
   ]
  },
  {
   "cell_type": "code",
   "execution_count": 8,
   "metadata": {},
   "outputs": [
    {
     "name": "stdout",
     "output_type": "stream",
     "text": [
      "When c=100 and d=1: \n",
      "0.06\n",
      "\n",
      "When c=100 and d=2: \n",
      "0.1164\n",
      "\n",
      "When c=100 and d=3: \n",
      "0.169416\n",
      "\n",
      "When c=100 and d=5: \n",
      "0.266096\n",
      "\n",
      "When c=100 and d=10: \n",
      "0.461385\n",
      "\n",
      "When c=100 and d=100: \n",
      "0.997945\n",
      "\n",
      "When c=100 and d=1000: \n",
      "Can be assumed =1\n"
     ]
    }
   ],
   "source": [
    "def pe(c,d):\n",
    "    return 1-(((c-2*0.03*c)**d)/c**d)\n",
    "\n",
    "print(\"When c=100 and d=1: \")\n",
    "print(round(pe(100,1),6))\n",
    "print(\"\\nWhen c=100 and d=2: \")\n",
    "print(round(pe(100,2),6))\n",
    "print(\"\\nWhen c=100 and d=3: \")\n",
    "print(round(pe(100,3),6))\n",
    "print(\"\\nWhen c=100 and d=5: \")\n",
    "print(round(pe(100,5),6))\n",
    "print(\"\\nWhen c=100 and d=10: \")\n",
    "print(round(pe(100,10),6))\n",
    "print(\"\\nWhen c=100 and d=100: \")\n",
    "print(round(pe(100,100),6))\n",
    "print(\"\\nWhen c=100 and d=1000: \")\n",
    "print(\"Can be assumed =1\")"
   ]
  },
  {
   "cell_type": "markdown",
   "metadata": {},
   "source": [
    "### 5. Conclusion"
   ]
  },
  {
   "cell_type": "markdown",
   "metadata": {},
   "source": [
    "# Question 3"
   ]
  },
  {
   "cell_type": "markdown",
   "metadata": {},
   "source": []
  },
  {
   "cell_type": "markdown",
   "metadata": {},
   "source": [
    "# Question4"
   ]
  },
  {
   "cell_type": "markdown",
   "metadata": {},
   "source": []
  }
 ],
 "metadata": {
  "kernelspec": {
   "display_name": "Python 3",
   "language": "python",
   "name": "python3"
  },
  "language_info": {
   "codemirror_mode": {
    "name": "ipython",
    "version": 3
   },
   "file_extension": ".py",
   "mimetype": "text/x-python",
   "name": "python",
   "nbconvert_exporter": "python",
   "pygments_lexer": "ipython3",
   "version": "3.6.5"
  }
 },
 "nbformat": 4,
 "nbformat_minor": 2
}
