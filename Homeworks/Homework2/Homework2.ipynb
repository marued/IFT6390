{
 "cells": [
  {
   "cell_type": "markdown",
   "metadata": {},
   "source": [
    "# Question 1: Linear and non-linear regularized regression (50pts)"
   ]
  },
  {
   "cell_type": "markdown",
   "metadata": {},
   "source": [
    "## 1.1 Linear Regression"
   ]
  },
  {
   "cell_type": "markdown",
   "metadata": {},
   "source": [
    "### 1.1.1 \n",
    "The parameters $\\theta = \\{w,b\\}, w \\in {\\rm I\\!R}^d, b \\in {\\rm I\\!R}$."
   ]
  },
  {
   "cell_type": "markdown",
   "metadata": {},
   "source": [
    "### 1.1.2 \n",
    "\\begin{align}\n",
    "\\hat {R} & = \\sum_{i=0}^n L(f_{\\theta}(x_i), t_i) \\\\\n",
    "& = \\sum_{i=0}^n (f(x_i) - t_i)^2 \\\\\n",
    "& = \\sum_{i=0}^n (w^Tx_i + b - t_i)^2\n",
    "\\end{align}"
   ]
  },
  {
   "cell_type": "markdown",
   "metadata": {},
   "source": [
    "### 1.1.3\n",
    "\\begin{align}\n",
    "\\theta ^* & = argmin_{\\theta} \\hat R (f_{\\theta}, D_n) \\\\\n",
    "& = argmin_{\\{w,b\\}} \\biggl( \\sum_{i=0}^n (w^Tx_i + b - t_i)^2 \\biggr) \\\\\n",
    "\\end{align}"
   ]
  },
  {
   "cell_type": "markdown",
   "metadata": {},
   "source": [
    "### 1.1.4\n",
    "\\begin{align}\n",
    "\\frac {\\partial \\hat R}{\\partial w} & = \\frac {\\partial}{\\partial w} \\sum_{i=0}^n (w^Tx_i + b - t_i)^2\\\\\n",
    "& =  \\frac {\\partial}{\\partial w} \\sum_{i=0}^n (w^T)^2x_i^2 + b^2 - t_i^2 + 2w^Tx_ib - 2bt_i \\\\\n",
    "& =  \\sum_{i=0}^n 2x_i(w^Tx_i + b - t_i)\n",
    "\\end{align}\n",
    "\n",
    "\\begin{align}\n",
    "\\frac {\\partial \\hat R}{\\partial b} & =  \\frac {\\partial}{\\partial w} \\sum_{i=0}^n (w^T)^2x_i^2 + b^2 - t_i^2 + 2w^Tx_ib - 2bt_i \\\\\n",
    "& =  \\sum_{i=0}^n 2(w^Tx_i +b -t_i) \\\\\n",
    "\\end{align}"
   ]
  },
  {
   "cell_type": "markdown",
   "metadata": {},
   "source": [
    "### 1.1.5 \n",
    "# <span style=\"color:red\">TODO answer</span>"
   ]
  },
  {
   "cell_type": "markdown",
   "metadata": {},
   "source": [
    "## 1.2 Ridge Regression"
   ]
  },
  {
   "cell_type": "markdown",
   "metadata": {},
   "source": [
    "### 1.2.1 \n",
    "\\begin{align}\n",
    "\\tilde R & = \\sum_{i=0}^n (w^Tx_i + b - t_i)^2 + \\sum_{k=0}^d \\lambda w_k^2 \\\\\n",
    "\\frac {\\partial \\tilde R}{\\partial w} & = \\sum_{i=0}^n 2x_i(w^Tx_i + b - t_i) + \\sum_{k=0}^d 2\\lambda w_k \\\\ \n",
    "\\frac {\\partial \\tilde R}{\\partial b} & = \\sum_{i=0}^n 2(w^Tx_i +b -t_i) \\\\ \n",
    "\\end{align}\n",
    "\n",
    "# <span style=\"color:red\">TODO how does it differ</span>"
   ]
  },
  {
   "cell_type": "markdown",
   "metadata": {},
   "source": [
    "### 1.2.2\n",
    "* Init w and b\n",
    "* itr $\\leftarrow$ 0\n",
    "* Init nb_steps\n",
    "* Init step_size\n",
    "* while itr < nb_steps\n",
    " * w $\\leftarrow$ w - step_size*$\\frac {\\partial \\hat R}{\\partial w}$ \n",
    " * b $\\leftarrow$ b - step_size*$\\frac {\\partial \\hat R}{\\partial b}$ \n",
    " * itr $\\leftarrow$ itr + 1"
   ]
  },
  {
   "cell_type": "markdown",
   "metadata": {},
   "source": [
    "### 1.2.3\n",
    "$ \\underline {if b=0} $\n",
    "\n",
    "\\begin{equation*}\n",
    "\\tilde R  = \\begin{bmatrix}\n",
    "(w_{(1)}x_{(1,1)}-t_{(1)})^2 + w_{(1)}^2 & \\cdots &  (w_{(d)}x_{(1,d)}-t_{(1)})^2 + w_{(d)}^2 \\\\\n",
    "\\vdots & \\ddots & \\vdots \\\\\n",
    "(w_{(1)}x_{(n,1)}-t_{(n)})^2 + w_{(1)}^2 & \\cdots & (w_{(d)}x_{(n,d)}-t_{(n)})^2 + w_{(d)}^2 \\\\\n",
    "\\end{bmatrix} \n",
    "\\end{equation*}\n",
    "\n",
    "\\begin{equation*}\n",
    "\\frac {\\partial \\tilde R}{\\partial w}  = \\begin{bmatrix}\n",
    "2x_{(1,1)}(w_{(1)}x_{(1,1)} - t_{(1)}) + 2\\lambda w_{(1)} & \\cdots & 2x_{(1,d)}(w_{(d)}x_{(1,d)} - t_{(1)})+ 2\\lambda w_{(d)} \\\\\n",
    "\\vdots & \\ddots & \\vdots \\\\\n",
    "2x_{(n,1)}(w_{(1)}x_{(n,1)} - t_{(n)}) + 2\\lambda w_{(1)} & \\cdots & 2x_{(n,d)}(w_{(d)}x_{(n,d)} -t_{(n)}) + 2\\lambda w_{(d)} \\\\\n",
    "\\end{bmatrix} \n",
    "\\end{equation*}\n",
    "\n",
    "\\begin{equation*}\n",
    "\\frac {\\partial \\tilde R}{\\partial b}  = 0\n",
    "\\end{equation*}"
   ]
  },
  {
   "cell_type": "markdown",
   "metadata": {},
   "source": [
    "### 1.2.4\n",
    "If we try and solve one of the derivatives when n=1 and d=1 for exemple, we would get:\n",
    "\n",
    "\\begin{align}\n",
    "2x(wx-t)+2 \\lambda w & = 0 \\\\\n",
    "2x^2w-2xt+2 \\lambda w & = 0 \\\\\n",
    "2x^2w+2 \\lambda w & = 2xt \\\\ \n",
    "w & = \\frac {xt}{x^2+ \\lambda} \\\\\n",
    "\\end{align}\n",
    "\n",
    "The resulting matrix would then be:\n",
    "\n",
    "\\begin{equation*}\n",
    "w  = \\begin{bmatrix}\n",
    "\\frac {x_{(1,1)}t_{(1)}}{x_{(1,1)}^2+ \\lambda} & \\cdots & \\frac {x_{(1,d)}t_{(1)}}{x_{(1,d)}^2+ \\lambda} \\\\\n",
    "\\vdots & \\ddots & \\vdots \\\\\n",
    "\\frac {x_{(n,1)}t_{(n)}}{x_{(n,1)}^2+ \\lambda} & \\cdots & \\frac {x_{(n,d)}t_{(n)}}{x_{(n,d)}^2+ \\lambda} \\\\\n",
    "\\end{bmatrix} \n",
    "\\end{equation*}\n",
    "\n",
    "Which in turn is equivalent to the following equation:\n",
    "\n",
    "\\begin{equation*}\n",
    "w  = (X^TX+\\lambda  I)^{-1} X^Tt\n",
    "\\end{equation*}\n",
    "\n",
    "When $\\lambda =0$ we get an equation that resembles the ordinary least squares equation: $ (X^TX)^{-1}(X^Tt) $ or $\\frac {xt}{x^2}$ for a single element of the matrix.\n",
    "Also, when d>n we will find an equation wich will solve all of our training points. This means we will perfectly fit our training set. This sort of capacity would result in overfitting our model. "
   ]
  },
  {
   "cell_type": "markdown",
   "metadata": {},
   "source": [
    "## 1.3 Regression with a fixed non-linear pre-processing"
   ]
  },
  {
   "cell_type": "markdown",
   "metadata": {},
   "source": [
    "### 1.3.1 \n",
    "\\begin{equation*}\n",
    "\\hat f(x) = f_{\\theta}([x, x^2,...,x^k]) = w_1x+w_2x^2+...+w_kx^k +b\n",
    "\\end{equation*}"
   ]
  },
  {
   "cell_type": "markdown",
   "metadata": {},
   "source": [
    "### 1.3.2\n",
    "\\begin{equation*}\n",
    "w = \\begin{bmatrix}\n",
    "w_1 \\\\\n",
    "w_2 \\\\\n",
    "\\cdots \\\\\n",
    "w_k \\\\\n",
    "\\end{bmatrix}\\\\\n",
    "w \\in {\\rm I\\!R}^k  \\text { and } b \\in {\\rm I\\!R}\n",
    "\\end{equation*}\n"
   ]
  },
  {
   "cell_type": "markdown",
   "metadata": {},
   "source": [
    "### 1.3.3\n",
    "$\\underline {\\text {When } d=2 and \\phi_{poly1}(x)}$ \n",
    "\\begin{equation*}\n",
    "\\tilde x = \\varphi (x) = \\varphi ([x_1, x_2]) = [x_1, x_2] \\\\\n",
    "f(x) = w^T\\tilde x+b=w_1x_1 + w_2x_2 +b\n",
    "\\end{equation*}\n",
    "\n",
    "\n",
    "$\\underline {\\text {When } d=2 and \\phi_{poly2}(x)}$ \n",
    "\\begin{equation*}\n",
    "\\tilde x = [x_1, x_2, x_1^2, x_2^2, x_1x_2] \\\\\n",
    "f(x) = w_1x_1 + w_2x_2 + w_3x_1^2 + w_4x_2^2 + w_5x_1x_2 + b\n",
    "\\end{equation*}\n",
    "\n",
    "\n",
    "$\\underline {\\text {When } d=2 and \\phi_{poly3}(x)}$ \n",
    "\\begin{equation*}\n",
    "\\tilde x = [x_1, x_2, x_1^2, x_2^2, x_1x_2, X_1^3, x_2^3, x_1^2x_2, x_2^2x_1] \\\\\n",
    "f(x) = w_1x_1 + w_2x_2 + w_3x_1^2 + w_4x_2^2 + w_5x_1x_2 + w_6x_1^3 + w_7x_2^3 + w_8x_1^2x_2 + w_9x_2^2x_1 + b\n",
    "\\end{equation*}"
   ]
  },
  {
   "cell_type": "markdown",
   "metadata": {},
   "source": [
    "### 1.3.4\n",
    "# <span style=\"color:red\">TODO relation with d and k</span>"
   ]
  },
  {
   "cell_type": "markdown",
   "metadata": {},
   "source": [
    "# Question 2: Pratical part (50 pts)"
   ]
  },
  {
   "cell_type": "markdown",
   "metadata": {},
   "source": [
    "## 2.1"
   ]
  }
 ],
 "metadata": {
  "kernelspec": {
   "display_name": "Python 3",
   "language": "python",
   "name": "python3"
  },
  "language_info": {
   "codemirror_mode": {
    "name": "ipython",
    "version": 3
   },
   "file_extension": ".py",
   "mimetype": "text/x-python",
   "name": "python",
   "nbconvert_exporter": "python",
   "pygments_lexer": "ipython3",
   "version": "3.6.5"
  }
 },
 "nbformat": 4,
 "nbformat_minor": 2
}
