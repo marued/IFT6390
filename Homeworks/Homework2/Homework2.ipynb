{
 "cells": [
  {
   "cell_type": "markdown",
   "metadata": {},
   "source": [
    "# Question 1: Linear and non-linear regularized regression (50pts)"
   ]
  },
  {
   "cell_type": "markdown",
   "metadata": {},
   "source": [
    "## 1.1 Linear Regression"
   ]
  },
  {
   "cell_type": "markdown",
   "metadata": {},
   "source": [
    "### 1.1.1 \n",
    "The parameters $\\theta = \\{w,b\\}, w \\in {\\rm I\\!R}^d, b \\in {\\rm I\\!R}$."
   ]
  },
  {
   "cell_type": "markdown",
   "metadata": {},
   "source": [
    "### 1.1.2 \n",
    "\\begin{align}\n",
    "\\hat {R} & = \\sum_{i=0}^n L(f_{\\theta}(x_i), t_i) \\\\\n",
    "& = \\sum_{i=0}^n (f(x_i) - t_i)^2 \\\\\n",
    "& = \\sum_{i=0}^n (w^Tx_i + b - t_i)^2\n",
    "\\end{align}"
   ]
  },
  {
   "cell_type": "markdown",
   "metadata": {},
   "source": [
    "### 1.1.3\n",
    "The optimal values for our parameters $\\ w $ and $\\ b$ are given by finding which parameters give the minimum of the $\\ \\hat R$ function, through the set of data $\\ D_n$.\n",
    "\n",
    "\\begin{align}\n",
    "\\theta ^* & = argmin_{\\theta} \\hat R (f_{\\theta}, D_n) \\\\\n",
    "(w ^*, b ^*) &= argmin_{\\{w,b\\}} \\biggl( \\sum_{i=0}^n (w^Tx_i + b - t_i)^2 \\biggr) \\\\\n",
    "\\end{align}\n",
    "\n",
    "Where $\\ (w, b)^* $ are the parameters that minimize the quadratic loss."
   ]
  },
  {
   "cell_type": "markdown",
   "metadata": {},
   "source": [
    "### 1.1.4\n",
    "We can find the optimal parameters with gradient descent. If $\\ \\hat R$ is our objective function, the optimal $\\ \\theta$ parameters will be found by finding the partial derivatives of our objective function :\n",
    "\n",
    "\\begin{align}\n",
    "\\frac {\\partial \\hat R}{\\partial w} & = \\frac {\\partial}{\\partial w} \\sum_{i=0}^n (w^Tx_i + b - t_i)^2\\\\\n",
    "& =  \\frac {\\partial}{\\partial w} \\sum_{i=0}^n (w^T)^2x_i^2 + b^2 - t_i^2 + 2w^Tx_ib - 2bt_i \\\\\n",
    "& =  \\sum_{i=0}^n 2x_i(w^Tx_i + b - t_i)\n",
    "\\end{align}\n",
    "\n",
    "\\begin{align}\n",
    "\\frac {\\partial \\hat R}{\\partial b} & =  \\frac {\\partial}{\\partial w} \\sum_{i=0}^n (w^T)^2x_i^2 + b^2 - t_i^2 + 2w^Tx_ib - 2bt_i \\\\\n",
    "& =  \\sum_{i=0}^n 2(w^Tx_i +b -t_i) \\\\\n",
    "\\end{align}"
   ]
  },
  {
   "cell_type": "markdown",
   "metadata": {},
   "source": [
    "### 1.1.5 \n",
    "# <span style=\"color:red\">Not sure</span> \n",
    "The error is the distance between the prediction from our model for a specefic 'X' value and the target. In the gradient formulation, we actually see the exact formulation multiplied by 2*X. Since the distance between the predicted value and the target (i.e. the error) is actually a direction: the bigger the error, the steeper the gradient is. "
   ]
  },
  {
   "cell_type": "markdown",
   "metadata": {},
   "source": [
    "## 1.2 Ridge Regression"
   ]
  },
  {
   "cell_type": "markdown",
   "metadata": {},
   "source": [
    "### 1.2.1 \n",
    "\\begin{align}\n",
    "\\tilde R & = \\sum_{i=0}^n (w^Tx_i + b - t_i)^2 + \\sum_{k=0}^d \\lambda w_k^2 \\\\\n",
    "\\frac {\\partial \\tilde R}{\\partial w} & = \\sum_{i=0}^n 2x_i(w^Tx_i + b - t_i) + \\sum_{k=0}^d 2\\lambda w_k \\\\ \n",
    "\\frac {\\partial \\tilde R}{\\partial b} & = \\sum_{i=0}^n 2(w^Tx_i +b -t_i) \\\\ \n",
    "\\end{align}\n",
    "\n",
    "The gradiant of the regularized empirical risk differs from that of the unregularized one only in the $\\ w $ partial derivative, since the regularization term ignores the bias parameter. You add the following term : \n",
    "\\begin{equation} 2\\lambda \\sum_{k=1}^{d}w_k \\end{equation}"
   ]
  },
  {
   "cell_type": "markdown",
   "metadata": {},
   "source": [
    "### 1.2.2\n",
    "The gradient descent algortihm calculates the optimal parameters by using an iterative method. After each iteration (*itr*), the gradient function is calculated again to evaluate the new direction of the steepest slope (in order to go downhill). The new parameters are obtained from the gradient value modified by the hyper-parameter *eta*, called *learning rate* or *step size*. It controls the size of the steps towards the optimal parameter. The algorithm stops when a maximum number of iterations (nb_steps) has been achieved. \n",
    "\n",
    "* Init w and b\n",
    "* itr $\\leftarrow$ 0\n",
    "* Init nb_steps\n",
    "* Init $\\ \\eta$ (the step size)\n",
    "* while itr < nb_steps\n",
    " * w $\\leftarrow$ w - $\\ \\eta$$\\frac {\\partial \\hat R}{\\partial w}$ \n",
    " * b $\\leftarrow$ b - $\\ \\eta$$\\frac {\\partial \\hat R}{\\partial b}$ \n",
    " * itr $\\leftarrow$ itr + 1"
   ]
  },
  {
   "cell_type": "markdown",
   "metadata": {},
   "source": [
    "### 1.2.3\n",
    "$ \\underline {if b=0} $\n",
    "\n",
    "\\begin{equation*}\n",
    "\\tilde R  = \\begin{bmatrix}\n",
    "(w_{(1)}x_{(1,1)}-t_{(1)})^2 + w_{(1)}^2 & \\cdots &  (w_{(d)}x_{(1,d)}-t_{(1)})^2 + w_{(d)}^2 \\\\\n",
    "\\vdots & \\ddots & \\vdots \\\\\n",
    "(w_{(1)}x_{(n,1)}-t_{(n)})^2 + w_{(1)}^2 & \\cdots & (w_{(d)}x_{(n,d)}-t_{(n)})^2 + w_{(d)}^2 \\\\\n",
    "\\end{bmatrix} \n",
    "\\end{equation*}\n",
    "\n",
    "\\begin{equation*}\n",
    "\\frac {\\partial \\tilde R}{\\partial w}  = \\begin{bmatrix}\n",
    "2x_{(1,1)}(w_{(1)}x_{(1,1)} - t_{(1)}) + 2\\lambda w_{(1)} & \\cdots & 2x_{(1,d)}(w_{(d)}x_{(1,d)} - t_{(1)})+ 2\\lambda w_{(d)} \\\\\n",
    "\\vdots & \\ddots & \\vdots \\\\\n",
    "2x_{(n,1)}(w_{(1)}x_{(n,1)} - t_{(n)}) + 2\\lambda w_{(1)} & \\cdots & 2x_{(n,d)}(w_{(d)}x_{(n,d)} -t_{(n)}) + 2\\lambda w_{(d)} \\\\\n",
    "\\end{bmatrix} \n",
    "\\end{equation*}\n",
    "\n",
    "\\begin{equation*}\n",
    "\\frac {\\partial \\tilde R}{\\partial b}  = 0\n",
    "\\end{equation*}"
   ]
  },
  {
   "cell_type": "markdown",
   "metadata": {},
   "source": [
    "### 1.2.4\n",
    "If we try and solve one of the derivatives when n=1 and d=1 for exemple, we would get:\n",
    "\n",
    "\\begin{align}\n",
    "2x(wx-t)+2 \\lambda w & = 0 \\\\\n",
    "2x^2w-2xt+2 \\lambda w & = 0 \\\\\n",
    "2x^2w+2 \\lambda w & = 2xt \\\\ \n",
    "w & = \\frac {xt}{x^2+ \\lambda} \\\\\n",
    "\\end{align}\n",
    "\n",
    "The resulting matrix would then be:\n",
    "\n",
    "\\begin{equation*}\n",
    "w  = \\begin{bmatrix}\n",
    "\\frac {x_{(1,1)}t_{(1)}}{x_{(1,1)}^2+ \\lambda} & \\cdots & \\frac {x_{(1,d)}t_{(1)}}{x_{(1,d)}^2+ \\lambda} \\\\\n",
    "\\vdots & \\ddots & \\vdots \\\\\n",
    "\\frac {x_{(n,1)}t_{(n)}}{x_{(n,1)}^2+ \\lambda} & \\cdots & \\frac {x_{(n,d)}t_{(n)}}{x_{(n,d)}^2+ \\lambda} \\\\\n",
    "\\end{bmatrix} \n",
    "\\end{equation*}\n",
    "\n",
    "Which in turn is equivalent to the following equation:\n",
    "\n",
    "\\begin{equation*}\n",
    "w  = (X^TX+\\lambda  I)^{-1} X^Tt\n",
    "\\end{equation*}\n",
    "\n",
    "When $\\lambda =0$ we get an equation that resembles the ordinary least squares equation: $ (X^TX)^{-1}(X^Tt) $ or $\\frac {xt}{x^2}$ for a single element of the matrix.\n",
    "Also, when d>n we will find an equation wich will solve all of our training points. This means we will perfectly fit our training set. This sort of capacity would result in overfitting our model. "
   ]
  },
  {
   "cell_type": "markdown",
   "metadata": {},
   "source": [
    "## 1.3 Regression with a fixed non-linear pre-processing"
   ]
  },
  {
   "cell_type": "markdown",
   "metadata": {},
   "source": [
    "### 1.3.1 \n",
    "\\begin{equation*}\n",
    "\\hat f(x) = \\hat f(\\phi(x))= f_{\\theta}([x, x^2,...,x^k]) = w_1x+w_2x^2+...+w_kx^k +b\n",
    "\\end{equation*}"
   ]
  },
  {
   "cell_type": "markdown",
   "metadata": {},
   "source": [
    "### 1.3.2\n",
    "\\begin{equation*}\n",
    "w = \\begin{bmatrix}\n",
    "w_1 \\\\\n",
    "w_2 \\\\\n",
    "\\cdots \\\\\n",
    "w_k \\\\\n",
    "\\end{bmatrix}\\\\\n",
    "w \\in {\\rm I\\!R}^k  \\text { and } b \\in {\\rm I\\!R}\n",
    "\\end{equation*}\n"
   ]
  },
  {
   "cell_type": "markdown",
   "metadata": {},
   "source": [
    "### 1.3.3\n",
    "$\\underline {\\text {When } d=2, \\phi_{poly1}(x)}$ \n",
    "\\begin{equation*}\n",
    "\\tilde x = \\varphi (x) = \\varphi ([x_1, x_2]) = [x_1, x_2] \\\\\n",
    "f(x) = w^T\\tilde x+b=w_1x_1 + w_2x_2 +b\n",
    "\\end{equation*}\n",
    "\n",
    "\n",
    "$\\underline {\\text {When } d=2, \\phi_{poly2}(x)}$ \n",
    "\\begin{equation*}\n",
    "\\tilde x = [x_1, x_2, x_1^2, x_2^2, x_1x_2] \\\\\n",
    "f(x) = w_1x_1 + w_2x_2 + w_3x_1^2 + w_4x_2^2 + w_5x_1x_2 + b\n",
    "\\end{equation*}\n",
    "\n",
    "\n",
    "$\\underline {\\text {When } d=2, \\phi_{poly3}(x)}$ \n",
    "\\begin{equation*}\n",
    "\\tilde x = [x_1, x_2, x_1^2, x_2^2, x_1x_2, X_1^3, x_2^3, x_1^2x_2, x_2^2x_1] \\\\\n",
    "f(x) = w_1x_1 + w_2x_2 + w_3x_1^2 + w_4x_2^2 + w_5x_1x_2 + w_6x_1^3 + w_7x_2^3 + w_8x_1^2x_2 + w_9x_2^2x_1 + b\n",
    "\\end{equation*}"
   ]
  },
  {
   "cell_type": "markdown",
   "metadata": {},
   "source": [
    "### 1.3.4\n",
    "# <span style=\"color:red\">TODO relation with d and k</span>"
   ]
  },
  {
   "cell_type": "markdown",
   "metadata": {},
   "source": [
    "# Question 2: Pratical part (50 pts)"
   ]
  },
  {
   "cell_type": "code",
   "execution_count": 2,
   "metadata": {},
   "outputs": [
    {
     "name": "stdout",
     "output_type": "stream",
     "text": [
      "Populating the interactive namespace from numpy and matplotlib\n"
     ]
    },
    {
     "name": "stderr",
     "output_type": "stream",
     "text": [
      "C:\\Users\\JP\\Anaconda3\\lib\\site-packages\\IPython\\core\\magics\\pylab.py:160: UserWarning: pylab import has clobbered these variables: ['pylab', 'random']\n",
      "`%matplotlib` prevents importing * from pylab and numpy\n",
      "  \"\\n`%matplotlib` prevents importing * from pylab and numpy\"\n"
     ]
    }
   ],
   "source": [
    "%pylab inline\n",
    "import numpy as np\n",
    "import random\n",
    "import pylab\n",
    "import time\n",
    "import matplotlib.pyplot as plt\n",
    "import sklearn.metrics as met\n",
    "import sklearn as sk"
   ]
  },
  {
   "cell_type": "markdown",
   "metadata": {},
   "source": [
    "## 2.1"
   ]
  },
  {
   "cell_type": "code",
   "execution_count": 31,
   "metadata": {},
   "outputs": [],
   "source": [
    "class regression_gradient:\n",
    "    \n",
    "    def __init__(self, lamda = 1):\n",
    "        \"\"\"\n",
    "        Class constructor initializing the attributes.\n",
    "        Parameters\n",
    "        ----------\n",
    "        lamda : float\n",
    "            lamda is the regularization hyperparameter\n",
    "            default value is 1\n",
    "        \"\"\"\n",
    "        self.lamda = lamda\n",
    "        self.scoreTr = 0\n",
    "        self.scoreTe = 0\n",
    "        self.R_tr = 0\n",
    "        self.R_te = 0\n",
    "        \n",
    "        \n",
    "    def train(self, train_data, train_labels, eta = 1, epsilon = 0.001, max_epoch = 10):\n",
    "        \"\"\"\n",
    "        Model training method learning the parameters.\n",
    "        Parameters\n",
    "        ----------\n",
    "        train_data : array of n x d\n",
    "            training examples and labels.\n",
    "        eta : float\n",
    "            step size\n",
    "            default value is 1.\n",
    "        max_epoch : float\n",
    "            maximum number of epochs for our SGD training\n",
    "            default value is 10.\n",
    "        \"\"\"\n",
    "        self.eta = eta\n",
    "        self.epsilon = epsilon\n",
    "        # -------------------------------\n",
    "        # 1) Parameter Initialization\n",
    "        \n",
    "        if isinstance(train_data[0], (np.ndarray)):\n",
    "            self.weight = zeros(train_data.shape[1]) #initialize the weights to a vector of zeros of size dx1\n",
    "        else:\n",
    "            self.weight = 0\n",
    "            \n",
    "        self.bias = 0 #initialize the bias\n",
    "        # -------------------------------\n",
    "        # 2) Training\n",
    "        # We use Stochastic Gradient Descent to train the parameters we just initialized\n",
    "        # Therefore, we go through a loop for several epochs to learn the parameters\n",
    "        print(\"Training...\")\n",
    "        epoch = 0\n",
    "        \n",
    "        while (epoch < max_epoch): #we keep looping while condition is true\n",
    "            \n",
    "            # We loop through all samples in our train_data. Once we went through every sample, we re-start an iteration\n",
    "            # (epoch) throughout the whole set.\n",
    "            \n",
    "            for (i,ex) in enumerate(train_data):\n",
    "                # Initialize local variables\n",
    "                \n",
    "                dRdw = 0\n",
    "                dRdb = 0\n",
    "                \n",
    "                if isinstance(ex,np.ndarray):\n",
    "                    dRdw = (2 * (ex*(np.matmul(ex,np.transpose(self.weight))+self.bias-train_labels[i]))\n",
    "                            +2 * self.lamda/train_data.shape[0]*np.linalg.norm(self.weight))\n",
    "                    dRdb = (2 * (np.matmul(ex,np.transpose(self.weight))+self.bias-train_labels[i]))\n",
    "                elif isinstance(ex,(np.float64, np.int32, float, int)):\n",
    "                    dRdw = (2 * (ex*((ex*np.transpose(self.weight))+self.bias-train_labels[i]))\n",
    "                            +2 * self.lamda/train_data.shape[0]*self.weight) # Because weight is just a scalar we dont use lg.norm\n",
    "                    dRdb = (2 * ((ex*np.transpose(self.weight))+self.bias-train_labels[i]))\n",
    "                if np.any(abs(dRdw) > self.epsilon):\n",
    "                    weight_temp = self.weight - eta * dRdw\n",
    "                if (abs(dRdb) > self.epsilon):\n",
    "                    bias_temp = self.bias - eta * dRdb\n",
    "\n",
    "                self.weight = weight_temp\n",
    "                self.bias = bias_temp\n",
    "            epoch += 1\n",
    "\n",
    "        print(\"Training completed with {} epochs\".format(max_epoch))\n",
    "        \n",
    "        return \n",
    "    \n",
    "    def loss(self, data, data_label):\n",
    "        \"\"\"\n",
    "        Method measuring the quadratic loss.\n",
    "        Parameters\n",
    "        ----------\n",
    "        data : array of n x d\n",
    "            data to predict the loss on\n",
    "        data_label : array of n x 1\n",
    "            label of the test data \n",
    "        \n",
    "        Return\n",
    "        ----------\n",
    "        loss over all data : array of n x 1\n",
    "            quadratic loss for every data\n",
    "        \"\"\"\n",
    "        pred = self.compute_predictions(data, data_label)\n",
    "        return np.power((pred - data_label),2)\n",
    "    \n",
    "    def empiricalRisk(self, data, data_label):\n",
    "        \"\"\"\n",
    "        Method measuring the total reg. empirical risk.\n",
    "        Parameters\n",
    "        ----------\n",
    "        data : array of n x d\n",
    "            data to predict the loss on\n",
    "        data_label : array of n x 1\n",
    "            label of the test data \n",
    "        \n",
    "        Return\n",
    "        ----------\n",
    "        regularized empirical risk: scalar\n",
    "            total regularized empirical risk over the data set\n",
    "        \"\"\"\n",
    "        return np.sum(self.loss(data, data_label) \n",
    "                      + np.power(self.lamda*np.linalg.norm(self.weight),2))\n",
    "        \n",
    "    def compute_predictions(self, test_data, test_labels): #for a the class of a training model\n",
    "        \"\"\"\n",
    "        Method predicting the labels of test_data.\n",
    "        Parameters\n",
    "        ----------\n",
    "        test_data : array of n x d\n",
    "            test data.\n",
    "        test_labels : array of n x 1\n",
    "            label of the test data \n",
    "        \n",
    "        Return\n",
    "        ----------\n",
    "        pred : array of n x 1\n",
    "            predictions for the test data\n",
    "        \"\"\"\n",
    "        \n",
    "        pred = np.zeros(test_data.shape[0])\n",
    "        for (i,ex) in enumerate(test_data):\n",
    "            if isinstance(ex,np.ndarray):    \n",
    "                pred[i] = np.matmul(ex,np.transpose(self.weight)) + self.bias\n",
    "            elif isinstance(ex,(np.float64, np.int32, float, int)):\n",
    "                pred[i] = (ex*(self.weight)) + self.bias\n",
    "                \n",
    "        return pred\n",
    "    \n",
    "    ## For the empirical risk error, do we use the regularization term as part of that risk, regarding an already trained model?"
   ]
  },
  {
   "cell_type": "markdown",
   "metadata": {},
   "source": [
    "## 2.2"
   ]
  },
  {
   "cell_type": "code",
   "execution_count": 4,
   "metadata": {},
   "outputs": [
    {
     "name": "stdout",
     "output_type": "stream",
     "text": [
      "[-1.54107573 -1.37536734 -1.65470692 -2.13777226 -2.48364425 -2.4184745\n",
      " -1.86936361 -1.         -0.13063639  0.4184745   0.48364425  0.13777226\n",
      " -0.34529308 -0.62463266 -0.45892427]\n"
     ]
    }
   ],
   "source": [
    "def h_x(x):\n",
    "        \"\"\"\n",
    "        h(x) function definition.\n",
    "        Parameters\n",
    "        ----------\n",
    "        x : float\n",
    "            x is the input if this function\n",
    "\n",
    "        Return\n",
    "        ----------\n",
    "        h(x)\n",
    "        \"\"\"\n",
    "        return np.sin(x) + 0.3*x - 1\n",
    "\n",
    "D = linspace(-5,5,15)\n",
    "\n",
    "print (h_x(D))"
   ]
  },
  {
   "cell_type": "markdown",
   "metadata": {},
   "source": [
    "## 2.3"
   ]
  },
  {
   "cell_type": "code",
   "execution_count": 5,
   "metadata": {},
   "outputs": [
    {
     "name": "stdout",
     "output_type": "stream",
     "text": [
      "Training...\n",
      "Training completed with 5000 epochs\n",
      "The regularized empirical risk of the training is 7.325068566712835.\n"
     ]
    },
    {
     "data": {
      "image/png": "[encoded data removed]",
      "text/plain": [
       "<matplotlib.figure.Figure at 0x5e9adbb7f0>"
      ]
     },
     "metadata": {},
     "output_type": "display_data"
    }
   ],
   "source": [
    "lambda_ = 0\n",
    "model = regression_gradient(0)\n",
    "model.train(D, h_x(D), 0.000475, 0.00001, 5000) #Model used for the rest of the problem\n",
    "\n",
    "\n",
    "interval = linspace(-10,10, 15)\n",
    "\n",
    "# Training score et test score devraient etre le meme\n",
    "    \n",
    "plt.figure(1)\n",
    "plt.plot(D, model.compute_predictions(D, h_x(D)), 'b--', label = \"Prediction\")\n",
    "plt.plot(D, h_x(D), 'k-', label = \"Ground Truth\")\n",
    "plt.xlabel(\"D\")\n",
    "plt.xlim(-10,10)\n",
    "plt.ylabel(\"Prediction\")\n",
    "plt.text(0, -2, 'w={0:.4f}'.format(model.weight))\n",
    "plt.text(0, -2.25, 'b={0:.4f}'.format(model.bias))\n",
    "plt.title(\"Prediction curve and true regression\")\n",
    "legend()\n",
    "\n",
    "print(\"The regularized empirical risk of the training is {}.\".format(model.empiricalRisk(D, h_x(D))))\n"
   ]
  },
  {
   "cell_type": "markdown",
   "metadata": {},
   "source": [
    "## 2.4"
   ]
  },
  {
   "cell_type": "code",
   "execution_count": 6,
   "metadata": {},
   "outputs": [
    {
     "name": "stdout",
     "output_type": "stream",
     "text": [
      "Model 1 :\n",
      "Training...\n",
      "Training completed with 5000 epochs\n",
      "Model 2:\n",
      "Training...\n",
      "Training completed with 5000 epochs\n",
      "Model 3:\n",
      "Training...\n",
      "Training completed with 5000 epochs\n",
      "\n",
      "The regularized empirical risk for the mode with lambda = 0.01 is 7.325143573357898.\n",
      "\n",
      "The regularized empirical risk for the mode with lambda = 50 is 1001.3683394673756.\n",
      "\n",
      "The regularized empirical risk for the mode with lambda = 100 is 2517.0764112012503.\n"
     ]
    },
    {
     "data": {
      "image/png": "[encoded data removed]",
      "text/plain": [
       "<matplotlib.figure.Figure at 0x5e9b1057b8>"
      ]
     },
     "metadata": {},
     "output_type": "display_data"
    }
   ],
   "source": [
    "model1 = regression_gradient(0.01)\n",
    "model2 = regression_gradient(50)\n",
    "model3 = regression_gradient(100)\n",
    "print (\"Model 1 :\")\n",
    "model1.train(D, h_x(D), 0.000475, 0.00001, 5000)\n",
    "print (\"Model 2:\")\n",
    "model2.train(D, h_x(D), 0.000475, 0.00001, 5000)\n",
    "print (\"Model 3:\")\n",
    "model3.train(D, h_x(D), 0.000475, 0.00001, 5000)\n",
    "plt.figure(1)\n",
    "plt.plot(D, h_x(D), 'k-', label = \"Ground Truth\")\n",
    "plt.plot(D, model1.compute_predictions(D, h_x(D)), 'b--', label = \"Lambda = 0.01\")\n",
    "plt.plot(D, model2.compute_predictions(D, h_x(D)), 'r--', label = \"Lambda = 50\")\n",
    "plt.plot(D, model3.compute_predictions(D, h_x(D)), 'g--', label = \"Lmabda = 100\")\n",
    "plt.xlabel(\"D\")\n",
    "plt.ylabel(\"Prediction\")\n",
    "plt.xlim(-10,10)\n",
    "plt.title(\"Prediction curves, various lambdas\")\n",
    "plt.legend()\n",
    "\n",
    "print(\"\\nThe regularized empirical risk for the mode with lambda = {} is {}.\".format(0.01,model1.empiricalRisk(D, h_x(D))))\n",
    "print(\"\\nThe regularized empirical risk for the mode with lambda = {} is {}.\".format(50,model2.empiricalRisk(D, h_x(D))))\n",
    "print(\"\\nThe regularized empirical risk for the mode with lambda = {} is {}.\".format(100,model3.empiricalRisk(D, h_x(D))))"
   ]
  },
  {
   "cell_type": "markdown",
   "metadata": {},
   "source": [
    "As we can see, as lambda grows, the slope of the prediction regression gets smaller, eventually pointing towards zero. This makes sense since lambda is the regularization hyperparameter. The bigger lambda is, the more penalty is added to bigger weights; the slope corresponds exactly to the weight here."
   ]
  },
  {
   "cell_type": "markdown",
   "metadata": {},
   "source": [
    "## 2.5"
   ]
  },
  {
   "cell_type": "code",
   "execution_count": 7,
   "metadata": {},
   "outputs": [
    {
     "name": "stdout",
     "output_type": "stream",
     "text": [
      "for lambda = 0.0001\n",
      "Training...\n",
      "Training completed with 5000 epochs\n",
      "for lambda = 0.001\n",
      "Training...\n",
      "Training completed with 5000 epochs\n",
      "for lambda = 0.01\n",
      "Training...\n",
      "Training completed with 5000 epochs\n",
      "for lambda = 0.1\n",
      "Training...\n",
      "Training completed with 5000 epochs\n",
      "for lambda = 1\n",
      "Training...\n",
      "Training completed with 5000 epochs\n",
      "for lambda = 10\n",
      "Training...\n",
      "Training completed with 5000 epochs\n",
      "for lambda = 100\n",
      "Training...\n",
      "Training completed with 5000 epochs\n"
     ]
    },
    {
     "data": {
      "text/plain": [
       "Text(0.5,1,'Zoom on smaller hyperparameters')"
      ]
     },
     "execution_count": 7,
     "metadata": {},
     "output_type": "execute_result"
    },
    {
     "data": {
      "image/png": "[encoded data removed]",
      "text/plain": [
       "<matplotlib.figure.Figure at 0x5e9a883588>"
      ]
     },
     "metadata": {},
     "output_type": "display_data"
    },
    {
     "data": {
      "image/png": "[encoded data removed]",
      "text/plain": [
       "<matplotlib.figure.Figure at 0x5e9b1ac518>"
      ]
     },
     "metadata": {},
     "output_type": "display_data"
    }
   ],
   "source": [
    "D_test = linspace(-5,5, 100)\n",
    "Dy_test = h_x(D_test)\n",
    "\n",
    "vLambda_ = [0.0001, 0.001, 0.01, 0.1, 1, 10, 100]\n",
    "\n",
    "R_score = zeros(len(vLambda_))\n",
    "\n",
    "for (i,ex) in enumerate(vLambda_):\n",
    "    model = regression_gradient(ex)\n",
    "    print(\"for lambda = {}\".format(ex))\n",
    "    model.train(D, h_x(D), 0.000475, 0.00001, 5000)\n",
    "    #model.compute_predictions(D_test, Dy_test)\n",
    "    R_score[i] = np.mean(model.loss(D_test, Dy_test))\n",
    "    \n",
    "plt.figure(1)\n",
    "plt.plot(vLambda_, R_score, 'k')\n",
    "plt.ylabel(\"Average quadratic loss\")\n",
    "plt.xlabel(\"Lambda\")\n",
    "plt.title(\"Relation between average quadratic loss and lambda hyperparameter\")\n",
    "\n",
    "plt.figure(2)\n",
    "plt.plot(vLambda_[0:8], R_score[0:8], 'k')\n",
    "plt.ylabel(\"Average quadratic loss\")\n",
    "plt.xlabel(\"Lambda\")\n",
    "plt.xscale('log')\n",
    "plt.title(\"Zoom on smaller hyperparameters\")"
   ]
  },
  {
   "cell_type": "markdown",
   "metadata": {},
   "source": [
    "## 2.6"
   ]
  },
  {
   "cell_type": "code",
   "execution_count": 58,
   "metadata": {},
   "outputs": [],
   "source": [
    "def phi_tf(data, l):\n",
    "    \"\"\"\n",
    "    phi_tf() function definition.\n",
    "    Parameters\n",
    "    ----------\n",
    "    data : array/matrix\n",
    "        data is the input of this function\n",
    "        data will be non-linearly transformed and \n",
    "        defined by a new set a features, obtained\n",
    "        from the original features\n",
    "    l : integer\n",
    "        polynomial degree of the transformation\n",
    "        \n",
    "    WARNING:\n",
    "        Works only for 1 dimensional data sets.\n",
    "    Return\n",
    "    ----------\n",
    "    normalized transformed data set new_data\n",
    "    \"\"\"\n",
    "    \n",
    "    if isinstance(data, (np.float64, np.int32, float, int)):\n",
    "        raise Exception(\"data is not an array or matrix!\") \n",
    "    \n",
    "    if (l < 1 or l is(np.int32, int)):\n",
    "        raise Exception(\"l is either too small or not an integer!\")\n",
    "    \n",
    "    if isinstance(data[0], (np.float64, np.int32, float, int)):\n",
    "        new_data = zeros((data.shape[0],l))\n",
    "        for (i,ex) in enumerate(data):\n",
    "            for j in range(l):\n",
    "                new_data[i][j] = np.power(ex,(j+1))\n",
    "    \n",
    "    if isinstance(data[0], (np.ndarray)):\n",
    "        raise Exception(\"Function still under construction\")\n",
    "        d = data.shape[1]\n",
    "        new_data = zeros((data.shape[0],l))\n",
    "        for (i,ex) in enumerate(data):\n",
    "            for j in range(l):\n",
    "                new_data[i][j] = np.power(ex,(j+1))\n",
    "                \n",
    "    new_data= np.divide((new_data - new_data.min(axis=0)),(new_data.max(axis=0) - new_data.min(axis=0)))\n",
    "\n",
    "    return new_data"
   ]
  },
  {
   "cell_type": "code",
   "execution_count": 107,
   "metadata": {},
   "outputs": [
    {
     "name": "stdout",
     "output_type": "stream",
     "text": [
      "Model with no pre-processing:\n",
      "Training...\n",
      "Training completed with 5000 epochs\n",
      "True risk = 50.270352656542705 \n",
      "\n",
      "Model with polynomial preprocessing of degree 20:\n",
      "Training...\n",
      "Training completed with 10000 epochs\n",
      "True risk = 6.477346834872934\n",
      "\n",
      "Model with polynomial preprocessing of degree 21:\n",
      "Training...\n",
      "Training completed with 10000 epochs\n",
      "True risk = 6.373246776491686\n",
      "\n"
     ]
    },
    {
     "data": {
      "text/plain": [
       "<matplotlib.legend.Legend at 0x5ea1370710>"
      ]
     },
     "execution_count": 107,
     "metadata": {},
     "output_type": "execute_result"
    },
    {
     "data": {
      "image/png": "[encoded data removed]",
      "text/plain": [
       "<matplotlib.figure.Figure at 0x5ea12d1cc0>"
      ]
     },
     "metadata": {},
     "output_type": "display_data"
    }
   ],
   "source": [
    "model = regression_gradient(0.01)\n",
    "\n",
    "plt.figure(1)\n",
    "plt.plot(D, h_x(D),'k-', label = \"Ground truth\")\n",
    "plt.xlabel(\"D_test\")\n",
    "plt.ylabel(\"Prediction\")\n",
    "plt.ylim(-3,1)\n",
    "plt.title(\"Prediction curves for different non linear transformations\")\n",
    "\n",
    "print (\"Model with no pre-processing:\")\n",
    "model.train(D, h_x(D), 0.000475, 0.00001, 5000)\n",
    "plt.plot(D_test, model.compute_predictions(D_test, h_x(D_test)), 'b--', label = \"No pre-processing\")\n",
    "print(\"True risk = {} \\n\".format(model.empiricalRisk(D_test,h_x(D_test))))\n",
    "\n",
    "# print(\"Model with polynomial preprocessing of degree 2:\")\n",
    "# x_hat = phi_tf(D,2)\n",
    "# x_hat_test = phi_tf(D_test, 2)\n",
    "# model.train(x_hat, h_x(D), 0.000475, 0.00001, 5000)\n",
    "# plt.plot(D_test, model.compute_predictions(x_hat_test, h_x(D_test)), 'r--', label = \"l = 2\")\n",
    "\n",
    "# print(\"Model with polynomial preprocessing of degree 3:\")\n",
    "# x_hat = phi_tf(D,3)\n",
    "# x_hat_test = phi_tf(D_test, 3)\n",
    "# model.train(x_hat, h_x(D), 0.08, 0.00001, 10000)\n",
    "# plt.plot(D_test, model.compute_predictions(x_hat_test, h_x(D_test)), 'g--', label = \"l = 3\")\n",
    "# print(\"True risk = {}\\n\".format(model.empiricalRisk(x_hat_test,h_x(D_test))))\n",
    "\n",
    "# print(\"Model with polynomial preprocessing of degree 6:\")\n",
    "# x_hat = phi_tf(D,6)\n",
    "# x_hat_test = phi_tf(D_test, 6)\n",
    "# model.train(x_hat, h_x(D), 0.055, 0.00001, 5000)\n",
    "# # plt.plot(D_test, model.compute_predictions(x_hat_test, h_x(D_test)), 'm--', label = \"l = 6\")\n",
    "# print(\"True risk = {}\\n\".format(model.empiricalRisk(x_hat_test,h_x(D_test))))\n",
    "\n",
    "# print(\"Model with polynomial preprocessing of degree 9:\")\n",
    "# x_hat = phi_tf(D,9)\n",
    "# x_hat_test = phi_tf(D_test, 9)\n",
    "# model.train(x_hat, h_x(D), 0.01, 0.00001, 5000)\n",
    "# # plt.plot(D_test, model.compute_predictions(x_hat_test, h_x(D_test)), 'c--', label = \"l = 9\")\n",
    "# print(\"True risk = {}\\n\".format(model.empiricalRisk(x_hat_test,h_x(D_test))))\n",
    "\n",
    "# print(\"Model with polynomial preprocessing of degree 12:\")\n",
    "# x_hat = phi_tf(D,12)\n",
    "# x_hat_test = phi_tf(D_test, 12)\n",
    "# model.train(x_hat, h_x(D), 0.01, 0.00001, 5000)\n",
    "# # plt.plot(D_test, model.compute_predictions(x_hat_test, h_x(D_test)), 'y--', label = \"l = 12\")\n",
    "# print(\"True risk = {}\\n\".format(model.empiricalRisk(x_hat_test,h_x(D_test))))\n",
    "\n",
    "# print(\"Model with polynomial preprocessing of degree 15:\")\n",
    "# x_hat = phi_tf(D,15)\n",
    "# x_hat_test = phi_tf(D_test, 15)\n",
    "# model.train(x_hat, h_x(D), 0.02, 0.00001, 10000)\n",
    "# #plt.plot(D_test, model.compute_predictions(x_hat_test, h_x(D_test)), 'r--', label = \"l = 15\")\n",
    "# print(\"True risk = {}\\n\".format(model.empiricalRisk(x_hat_test,h_x(D_test))))\n",
    "\n",
    "print(\"Model with polynomial preprocessing of degree 20:\")\n",
    "x_hat = phi_tf(D,20)\n",
    "x_hat_test = phi_tf(D_test, 20)\n",
    "model.train(x_hat, h_x(D), 0.020, 0.00001, 10000)\n",
    "plt.plot(D_test, model.compute_predictions(x_hat_test, h_x(D_test)), 'g--', label = \"l = 20\")\n",
    "print(\"True risk = {}\\n\".format(model.empiricalRisk(x_hat_test,h_x(D_test))))\n",
    "\n",
    "print(\"Model with polynomial preprocessing of degree 21:\")\n",
    "x_hat = phi_tf(D,21)\n",
    "x_hat_test = phi_tf(D_test, 21)\n",
    "model.train(x_hat, h_x(D), 0.0186, 0.000001, 10000)\n",
    "plt.plot(D_test, model.compute_predictions(x_hat_test, h_x(D_test)), 'r--', label = \"l = 21\")\n",
    "print(\"True risk = {}\\n\".format(model.empiricalRisk(x_hat_test,h_x(D_test))))\n",
    "\n",
    "plt.legend()"
   ]
  },
  {
   "cell_type": "markdown",
   "metadata": {},
   "source": [
    "## 2.7"
   ]
  },
  {
   "cell_type": "markdown",
   "metadata": {},
   "source": [
    "When l increases, it becomes easier (with the right step size and number of iterations) to properly fit the model to the true distribution regression of the data. Moreover, we can represent more complex regressions as l increases, since it allows us the use of high degree polynomials. We manage to reduce significantly the risk on $\\ D_n$ and on $\\ D_{test}$. In this case we know the true distribution of the data, but in another situation we might not know it; using too complex model (increasing l too much) will most of the time result in overfitting."
   ]
  }
 ],
 "metadata": {
  "kernelspec": {
   "display_name": "Python 3",
   "language": "python",
   "name": "python3"
  },
  "language_info": {
   "codemirror_mode": {
    "name": "ipython",
    "version": 3
   },
   "file_extension": ".py",
   "mimetype": "text/x-python",
   "name": "python",
   "nbconvert_exporter": "python",
   "pygments_lexer": "ipython3",
   "version": "3.6.4"
  }
 },
 "nbformat": 4,
 "nbformat_minor": 2
}
