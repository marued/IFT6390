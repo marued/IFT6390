{
 "cells": [
  {
   "cell_type": "markdown",
   "metadata": {},
   "source": [
    "# Data formating"
   ]
  },
  {
   "cell_type": "code",
   "execution_count": 1,
   "metadata": {},
   "outputs": [
    {
     "name": "stdout",
     "output_type": "stream",
     "text": [
      "Training image shape:  (10000, 2)\n",
      "Training image shape:  object\n",
      "Image format:  [1 array([0., 0., 0., ..., 0., 0., 0.])]\n",
      "Training labels shape:  (10000,)\n"
     ]
    },
    {
     "data": {
      "text/plain": [
       "<matplotlib.image.AxesImage at 0x3604f780>"
      ]
     },
     "execution_count": 1,
     "metadata": {},
     "output_type": "execute_result"
    }
   ],
   "source": [
    "import os\n",
    "import pickle\n",
    "import random\n",
    "import torch\n",
    "import torch.nn as nn\n",
    "import torch.nn.functional as F\n",
    "import torch.optim as optim\n",
    "import numpy as np\n",
    "import matplotlib.pyplot as plt\n",
    "\n",
    "# load training images with numpy\n",
    "images_train = np.load('train_images.npy', encoding='latin1')\n",
    "print(\"Training image shape: \",images_train.shape)\n",
    "print(\"Training image shape: \",images_train.dtype)\n",
    "print(\"Image format: \", (images_train[:][1]))\n",
    "\n",
    "# load labels with numpy\n",
    "train_labels = np.genfromtxt('train_labels.csv', names=True, delimiter=',', dtype=[('Id', 'i8'), ('Category', 'S5')])\n",
    "print(\"Training labels shape: \", train_labels.shape)\n",
    "\n",
    "#Reshaping image to 100x100\n",
    "image_train1 = (images_train[32][1]).reshape(100,100)\n",
    "plt.imshow(image_train1)\n"
   ]
  },
  {
   "cell_type": "code",
   "execution_count": 2,
   "metadata": {},
   "outputs": [
    {
     "name": "stdout",
     "output_type": "stream",
     "text": [
      "Number of classes:  31\n",
      "[b'apple' b'empty' b'moust' b'mouth' b'mug' b'nail' b'nose' b'octag'\n",
      " b'paint' b'panda' b'parro' b'peanu' b'pear' b'penci' b'pengu' b'pillo'\n",
      " b'pinea' b'pool' b'rabbi' b'rhino' b'rifle' b'rolle' b'sailb' b'scorp'\n",
      " b'screw' b'shove' b'sink' b'skate' b'skull' b'spoon' b'squig']\n",
      "\n",
      "Example:  b'shove'  is class number  25\n",
      "Example reverse: 25  is  b'shove'\n"
     ]
    }
   ],
   "source": [
    "#Printing label\n",
    "number_of_classes = np.unique(train_labels['Category']).size\n",
    "print(\"Number of classes: \", number_of_classes)\n",
    "# Mapping string name to class number:\n",
    "\n",
    "class_names = np.unique(train_labels['Category'])\n",
    "print(class_names)\n",
    "\n",
    "def get_class_nb(lable):\n",
    "    return np.argwhere(class_names == lable).item()\n",
    "\n",
    "def get_class_name(indx):\n",
    "    return class_names[indx]\n",
    "\n",
    "class_nb_example = get_class_nb(train_labels[0]['Category'])\n",
    "print()\n",
    "print(\"Example: \", train_labels[0]['Category'], \" is class number \", class_nb_example)\n",
    "print(\"Example reverse:\", class_nb_example, \" is \", get_class_name(class_nb_example))\n"
   ]
  },
  {
   "cell_type": "code",
   "execution_count": 3,
   "metadata": {},
   "outputs": [],
   "source": [
    "# Replace string labels with class numbers\n",
    "# To map it back to the lable, use get_class_name\n",
    "\n",
    "\n"
   ]
  },
  {
   "cell_type": "code",
   "execution_count": 4,
   "metadata": {},
   "outputs": [
    {
     "name": "stdout",
     "output_type": "stream",
     "text": [
      "Image shape:  (10000, 2)\n",
      "Image ID:  0\n"
     ]
    },
    {
     "data": {
      "text/plain": [
       "<matplotlib.image.AxesImage at 0x360b1710>"
      ]
     },
     "execution_count": 4,
     "metadata": {},
     "output_type": "execute_result"
    },
    {
     "data": {
      "image/png": "[encoded data removed]",
      "text/plain": [
       "<Figure size 432x288 with 1 Axes>"
      ]
     },
     "metadata": {
      "needs_background": "light"
     },
     "output_type": "display_data"
    }
   ],
   "source": [
    "#Load test images with numpy\n",
    "images_test = np.load('test_images.npy', encoding='latin1')\n",
    "print(\"Image shape: \", images_test.shape)\n",
    "\n",
    "# Reshape test images\n",
    "print(\"Image ID: \", images_test[0][0])\n",
    "image_test1 = (images_test[1][1]).reshape(100,100)\n",
    "plt.imshow(image_test1)"
   ]
  },
  {
   "cell_type": "code",
   "execution_count": 5,
   "metadata": {},
   "outputs": [
    {
     "name": "stdout",
     "output_type": "stream",
     "text": [
      "cuda\n"
     ]
    }
   ],
   "source": [
    "# If a GPU is available, use it\n",
    "# Pytorch uses an elegant way to keep the code device agnostic\n",
    "if torch.cuda.is_available():\n",
    "    device = torch.device(\"cuda\")\n",
    "    use_cuda = True\n",
    "else:\n",
    "    device = torch.device(\"cpu\")\n",
    "    use_cuda = False\n",
    "# debugging\n",
    "# device = torch.device(\"cpu\")\n",
    "# use_cuda = False\n",
    "    \n",
    "print(device)"
   ]
  },
  {
   "cell_type": "code",
   "execution_count": 6,
   "metadata": {},
   "outputs": [],
   "source": [
    "# Converting numpy array to pytorch\n",
    "# End result for tensor size -> (10000, 1, 100, 100) <=> (nb examples, nb chanels, width, height)\n",
    "train_tensor = torch.stack([torch.Tensor(np.array(i).reshape((1, 100, 100))) for i in (images_train[:,1])])#.to(device)\n",
    "test_tensor = torch.stack([torch.Tensor(np.array(i).reshape((1, 100, 100))) for i in (images_test[:,1])])#.to(device)\n",
    "\n",
    "train_label_converted = np.stack([get_class_nb(i) for i in train_labels[\"Category\"]])\n",
    "label_tensor = torch.from_numpy(train_label_converted).long()#.to(device)\n"
   ]
  },
  {
   "cell_type": "markdown",
   "metadata": {},
   "source": [
    "# Creating Pytoch Data Loaders"
   ]
  },
  {
   "cell_type": "code",
   "execution_count": 7,
   "metadata": {},
   "outputs": [],
   "source": [
    "# Creating dataloaders\n",
    "import torch.utils.data as data_utils\n",
    "from torch.utils.data.sampler import (SubsetRandomSampler,\n",
    "                                      RandomSampler)\n",
    "\n",
    "batch_size=50\n",
    "# This is the subset of Kaggle images we want to overfit\n",
    "train = data_utils.TensorDataset(train_tensor, label_tensor)\n",
    "train_loader = data_utils.DataLoader(train, batch_size=batch_size, pin_memory=True) # shuffle=True, cuda\n",
    "\n",
    "scratch_loader = data_utils.DataLoader(\n",
    "    train,\n",
    "    batch_size=batch_size,\n",
    "    # The sampler is an easy way to say that we're using the elements\n",
    "    # `indices[:n_scratch]` for this loader\n",
    "    # sampler=SubsetRandomSampler(indices[:n_scratch]),\n",
    "    shuffle=True,\n",
    "    num_workers=1,\n",
    "    pin_memory=True # Cuda\n",
    ")"
   ]
  },
  {
   "cell_type": "code",
   "execution_count": 8,
   "metadata": {},
   "outputs": [
    {
     "name": "stdout",
     "output_type": "stream",
     "text": [
      "This is the shape of one batch of inputs torch.Size([50, 1, 100, 100])\n",
      "This is the shape of one batch of targets torch.Size([50])\n",
      "This is an image of class b'shove'\n"
     ]
    },
    {
     "data": {
      "image/png": "[encoded data removed]",
      "text/plain": [
       "<Figure size 432x288 with 1 Axes>"
      ]
     },
     "metadata": {
      "needs_background": "light"
     },
     "output_type": "display_data"
    }
   ],
   "source": [
    "# Validating dataloader format\n",
    "for inputs, targets in train_loader:\n",
    "    print(f\"This is the shape of one batch of inputs {inputs.shape}\")\n",
    "    print(f\"This is the shape of one batch of targets {targets.shape}\")\n",
    "    print(\"This is an image of class\", get_class_name(int(targets[0])))\n",
    "\n",
    "#           \" What is the meaning of each dimension?\")\n",
    "#     print(\"target\", targets.shape, targets)\n",
    "    img = inputs[0][0]\n",
    "    plt.imshow(img, cmap='Greys_r')\n",
    "    break"
   ]
  },
  {
   "cell_type": "markdown",
   "metadata": {},
   "source": [
    "# Model definition"
   ]
  },
  {
   "cell_type": "code",
   "execution_count": 9,
   "metadata": {},
   "outputs": [],
   "source": [
    "class BasicNet(nn.Module):\n",
    "    \"\"\"Affordable convolutions for the people.\"\"\"\n",
    "    \n",
    "    def __init__(self):\n",
    "        super().__init__()\n",
    "        self.conv1 = nn.Conv2d(in_channels=1, out_channels=64, kernel_size=(10,10), padding=2, stride=1)\n",
    "        self.bn = nn.BatchNorm2d(64)\n",
    "        \n",
    "        self.conv2 = nn.Conv2d(64, 256, 6, padding=2)\n",
    "        self.bn2 = nn.BatchNorm2d(256)\n",
    "        \n",
    "        self.conv3 = nn.Conv2d(256, 256 + 64, 4, padding=1)\n",
    "        self.bn3 = nn.BatchNorm2d(256 + 64)\n",
    "        \n",
    "        self.fc = nn.Linear(320, 10)\n",
    "\n",
    "    def forward(self, xin):\n",
    "        # x is [batch_size, channels, heigth, width] = [bs, 1, 28, 28]\n",
    "        x = F.relu(self.bn(self.conv1(xin)))\n",
    "        x = F.max_pool2d(x, 4) \n",
    "        \n",
    "        x = F.relu(self.bn2(self.conv2(x)))\n",
    "        x = F.max_pool2d(x, 4) \n",
    "        \n",
    "        # x is [bs, 32, 14, 14]\n",
    "        x = F.relu(self.bn3(self.conv3(x)))\n",
    "        x = F.max_pool2d(x, 4) \n",
    "        \n",
    "        # x is [bs, 64, 7, 7]\n",
    "        x = x.view(x.size(0), -1) # flatten\n",
    "        x = F.relu(self.fc(x))\n",
    "        return x"
   ]
  },
  {
   "cell_type": "markdown",
   "metadata": {},
   "source": [
    "# Training"
   ]
  },
  {
   "cell_type": "code",
   "execution_count": 10,
   "metadata": {},
   "outputs": [],
   "source": [
    "# Surrogate loss used for training\n",
    "loss_fn = nn.CrossEntropyLoss()\n",
    "test_loss_fn = nn.CrossEntropyLoss(reduction='sum')\n",
    "\n",
    "# spot to save your learning curves, and potentially checkpoint your models\n",
    "savedir = 'results'\n",
    "if not os.path.exists(savedir):\n",
    "    os.makedirs(savedir)\n",
    "\n",
    "## This method comes from the lab session number 11 of the class\n",
    "def train(model, train_loader, optimizer, epoch ):\n",
    "    \"\"\"Perform one epoch of training.\"\"\"\n",
    "    model.train()\n",
    "    \n",
    "    for batch_idx, (inputs, target) in enumerate(train_loader):\n",
    "        inputs, target = inputs.to(device), target.to(device) # Send data to the device\n",
    "        \n",
    "        optimizer.zero_grad()\n",
    "        output = model.forward(inputs)\n",
    "        loss = loss_fn(output, target)\n",
    "        loss.backward()\n",
    "        optimizer.step()\n",
    "        \n",
    "        if batch_idx % 10 == 0:\n",
    "            print('Train Epoch: {} [{}/{} ({:.0f}%)]\\tLoss: {:.6f}'.format(\n",
    "                epoch, batch_idx * len(inputs), len(train_loader) *len(inputs) ,\n",
    "                100. * batch_idx / len(train_loader), loss.item()))"
   ]
  },
  {
   "cell_type": "code",
   "execution_count": 11,
   "metadata": {},
   "outputs": [],
   "source": [
    "## This method comes from the lab session number 11 of the class\n",
    "def test(model, test_loader):\n",
    "    \"\"\"Evaluate the model by doing one pass over a dataset\"\"\"\n",
    "    model.eval()\n",
    "    \n",
    "    test_loss = 0\n",
    "    correct = 0\n",
    "    test_size = 0\n",
    "    \n",
    "    with torch.no_grad(): # save some computations\n",
    "      \n",
    "        for inputs, target in test_loader:\n",
    "            inputs, target = inputs.to(device), target.to(device)\n",
    "            test_size += target.size(0)\n",
    "\n",
    "            output = model(inputs)\n",
    "            loss = test_loss_fn(output, target)\n",
    "            test_loss += loss\n",
    "            \n",
    "            pred = output.max(1, keepdim=True)[1]# [1] return s the arg max. i.e.  si idx == target, get the index of the prediction\n",
    "            correct += pred.eq(target.view_as(pred)).sum().item()\n",
    "\n",
    "    test_loss /= test_size\n",
    "    accuracy = correct / test_size\n",
    "    print('Test set: Average loss: {:.4f}, Accuracy: {}/{} ({:.0f}%)\\n'.format(\n",
    "        test_loss, correct, test_size,\n",
    "        100. * accuracy))\n",
    "    \n",
    "    return test_loss, accuracy"
   ]
  },
  {
   "cell_type": "code",
   "execution_count": 12,
   "metadata": {},
   "outputs": [
    {
     "name": "stdout",
     "output_type": "stream",
     "text": [
      "Train Epoch: 1 [0/10000 (0%)]\tLoss: 2.348259\n",
      "Train Epoch: 1 [500/10000 (5%)]\tLoss: 2.283693\n",
      "Train Epoch: 1 [1000/10000 (10%)]\tLoss: 2.297288\n",
      "Train Epoch: 1 [1500/10000 (15%)]\tLoss: 2.257850\n",
      "Train Epoch: 1 [2000/10000 (20%)]\tLoss: 2.299341\n",
      "Train Epoch: 1 [2500/10000 (25%)]\tLoss: 2.199073\n",
      "Train Epoch: 1 [3000/10000 (30%)]\tLoss: 2.302584\n",
      "Train Epoch: 1 [3500/10000 (35%)]\tLoss: 2.210481\n",
      "Train Epoch: 1 [4000/10000 (40%)]\tLoss: 2.210481\n",
      "Train Epoch: 1 [4500/10000 (45%)]\tLoss: 2.256533\n",
      "Train Epoch: 1 [5000/10000 (50%)]\tLoss: 2.210481\n",
      "Train Epoch: 1 [5500/10000 (55%)]\tLoss: 2.210481\n",
      "Train Epoch: 1 [6000/10000 (60%)]\tLoss: 2.210481\n",
      "Train Epoch: 1 [6500/10000 (65%)]\tLoss: 2.256533\n",
      "Train Epoch: 1 [7000/10000 (70%)]\tLoss: 2.256533\n",
      "Train Epoch: 1 [7500/10000 (75%)]\tLoss: 2.256533\n",
      "Train Epoch: 1 [8000/10000 (80%)]\tLoss: 2.256533\n",
      "Train Epoch: 1 [8500/10000 (85%)]\tLoss: 2.302584\n",
      "Train Epoch: 1 [9000/10000 (90%)]\tLoss: 2.256533\n",
      "Train Epoch: 1 [9500/10000 (95%)]\tLoss: 2.210481\n",
      "Test set: Average loss: 2.2570, Accuracy: 368/10000 (4%)\n",
      "\n"
     ]
    }
   ],
   "source": [
    "model = BasicNet().to(device)\n",
    "\n",
    "lr = 0.0005\n",
    "optimizer = optim.Adam(model.parameters(), lr=lr)\n",
    "\n",
    "results = {'name':'basic', 'lr': lr, 'loss': [], 'accuracy':[]}\n",
    "savefile = os.path.join(savedir, results['name']+str(results['lr'])+'.pkl' )\n",
    "\n",
    "for epoch in range(2):\n",
    "    train(model, scratch_loader, optimizer, epoch)\n",
    "    loss, acc = test(model, scratch_loader)\n",
    "    \n",
    "    # save results every epoch\n",
    "    results['loss'].append(loss)\n",
    "    results['accuracy'].append(acc)\n",
    "    with open(savefile, 'wb') as fout:\n",
    "        pickle.dump(results, fout)"
   ]
  }
 ],
 "metadata": {
  "kernelspec": {
   "display_name": "Python 3",
   "language": "python",
   "name": "python3"
  },
  "language_info": {
   "codemirror_mode": {
    "name": "ipython",
    "version": 3
   },
   "file_extension": ".py",
   "mimetype": "text/x-python",
   "name": "python",
   "nbconvert_exporter": "python",
   "pygments_lexer": "ipython3",
   "version": "3.7.0"
  }
 },
 "nbformat": 4,
 "nbformat_minor": 2
}
