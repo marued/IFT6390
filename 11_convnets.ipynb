{
  "nbformat": 4,
  "nbformat_minor": 0,
  "metadata": {
    "colab": {
      "name": "11_convnets.ipynb",
      "version": "0.3.2",
      "provenance": [],
      "collapsed_sections": [],
      "include_colab_link": true
    },
    "kernelspec": {
      "name": "python3",
      "display_name": "Python 3"
    },
    "accelerator": "GPU"
  },
  "cells": [
    {
      "cell_type": "markdown",
      "metadata": {
        "id": "view-in-github",
        "colab_type": "text"
      },
      "source": [
        "<a href=\"https://colab.research.google.com/github/marued/IFT6390/blob/master/11_convnets.ipynb\" target=\"_parent\"><img src=\"https://colab.research.google.com/assets/colab-badge.svg\" alt=\"Open In Colab\"/></a>"
      ]
    },
    {
      "metadata": {
        "id": "OvGeGKRUe3cv",
        "colab_type": "text"
      },
      "cell_type": "markdown",
      "source": [
        "# Convolutional Neural Networks (CNN)\n",
        "\n",
        "Welcome to the wonderworld of CNNs™. If you followed the last lab session on pytorch, you should already be comfortable with Pytorch's autograd mechanism, and with the standard way to train a model. Today we will focus on convolutional neural nets, aka CNN, aka convnets. On the way, we will also get more familiar with the data loading mechanism from pytorch and the training loop. You have two goals:\n",
        "\n",
        "1. Overfit a small subset of MNIST. This is a fast and reliable way to test that a model is not garbage.\n",
        "2. reach the best possible test score on MNIST. Bon courage.\n",
        "\n",
        "# Réseaux de Neurones Convolutionnels (RNC)\n",
        "###### C'est un blague, personne n'utilise cet acronyme.\n",
        "\n",
        "Bienvenu dans le monde merveilleux des CNNs™. Si vous avez suivi la dernière démonstration sur pytorch, vous devriez déjà être à l'aise avec le mécanisme de différentiation automatique, ainsi qu'avec la méthode standard pour entraîner un modèle. Aujourd'hui,  on va s'intéresser à toutes les subtilités des réseaux de neurones convolutionnels. Au passage on va revoir le mécanisme de chargement des données et la boucle d'entraînement. Vous avez deux buts:\n",
        "\n",
        "1. mémoriser une petite fraction de MNIST avec un modèle. C'est une méthode simple et efficace pour vérifier qu'un modèle est décent.\n",
        "2. atteindre le meilleur score possible sur MNIST entier. Good luck.\n",
        "\n"
      ]
    },
    {
      "metadata": {
        "id": "XhfFTl1pe3cw",
        "colab_type": "text"
      },
      "cell_type": "markdown",
      "source": [
        "## Set up / Préparation"
      ]
    },
    {
      "metadata": {
        "id": "20cHv52zfXT8",
        "colab_type": "code",
        "outputId": "ce91eac2-eca5-4be7-c489-3c6db62d809e",
        "colab": {
          "base_uri": "https://localhost:8080/",
          "height": 55
        }
      },
      "cell_type": "code",
      "source": [
        "# http://pytorch.org/\n",
        "from os.path import exists\n",
        "from wheel.pep425tags import get_abbr_impl, get_impl_ver, get_abi_tag\n",
        "platform = '{}{}-{}'.format(get_abbr_impl(), get_impl_ver(), get_abi_tag())\n",
        "cuda_output = !ldconfig -p|grep cudart.so|sed -e 's/.*\\.\\([0-9]*\\)\\.\\([0-9]*\\)$/cu\\1\\2/'\n",
        "accelerator = cuda_output[0] if exists('/dev/nvidia0') else 'cpu'\n",
        "\n",
        "!pip install -q http://download.pytorch.org/whl/{accelerator}/torch-0.4.1-{platform}-linux_x86_64.whl torchvision"
      ],
      "execution_count": 0,
      "outputs": [
        {
          "output_type": "stream",
          "text": [
            "tcmalloc: large alloc 1073750016 bytes == 0x58344000 @  0x7fbf926302a4 0x594e17 0x626104 0x51190a 0x4f5277 0x510c78 0x5119bd 0x4f5277 0x4f3338 0x510fb0 0x5119bd 0x4f5277 0x4f3338 0x510fb0 0x5119bd 0x4f5277 0x4f3338 0x510fb0 0x5119bd 0x4f6070 0x510c78 0x5119bd 0x4f5277 0x4f3338 0x510fb0 0x5119bd 0x4f6070 0x4f3338 0x510fb0 0x5119bd 0x4f6070\n"
          ],
          "name": "stdout"
        }
      ]
    },
    {
      "metadata": {
        "id": "sJ07Jtthe3cy",
        "colab_type": "code",
        "outputId": "81adb3b7-a053-433f-99ce-d2337bd9f972",
        "colab": {
          "base_uri": "https://localhost:8080/",
          "height": 35
        }
      },
      "cell_type": "code",
      "source": [
        "import os\n",
        "import pickle\n",
        "import random\n",
        "import torch\n",
        "import torch.nn as nn\n",
        "import torch.nn.functional as F\n",
        "import torch.optim as optim\n",
        "\n",
        "import matplotlib.pyplot as plt\n",
        "%matplotlib inline\n",
        "\n",
        "print(f\"Your version of Pytorch is {torch.__version__}. You should use a version >0.4.\")"
      ],
      "execution_count": 0,
      "outputs": [
        {
          "output_type": "stream",
          "text": [
            "Your version of Pytorch is 0.4.1. You should use a version >0.4.\n"
          ],
          "name": "stdout"
        }
      ]
    },
    {
      "metadata": {
        "id": "JizO0m1Ze3c6",
        "colab_type": "code",
        "outputId": "c47b53e6-fe99-443c-e912-8275f23c046f",
        "colab": {
          "base_uri": "https://localhost:8080/",
          "height": 35
        }
      },
      "cell_type": "code",
      "source": [
        "# If a GPU is available, use it\n",
        "# Pytorch uses an elegant way to keep the code device agnostic\n",
        "if torch.cuda.is_available():\n",
        "    device = torch.device(\"cuda\")\n",
        "    use_cuda = True\n",
        "else:\n",
        "    device = torch.device(\"cpu\")\n",
        "    use_cuda = False\n",
        "    \n",
        "print(device)"
      ],
      "execution_count": 0,
      "outputs": [
        {
          "output_type": "stream",
          "text": [
            "cuda\n"
          ],
          "name": "stdout"
        }
      ]
    },
    {
      "metadata": {
        "id": "YoIKi7ebe3c9",
        "colab_type": "text"
      },
      "cell_type": "markdown",
      "source": [
        "## Datasets / Bases de Données\n",
        "\n",
        "We can use `torchvision`, the vision processing and data library in`PyTorch`, to load `MNIST` more easily. We convert it to a `Tensor` and also normalize the values so our model has an easier time fitting the data"
      ]
    },
    {
      "metadata": {
        "id": "MK9fKqhoe3c9",
        "colab_type": "code",
        "outputId": "fc4bc09b-a9e3-4763-8360-e966ea6fe8f4",
        "colab": {
          "base_uri": "https://localhost:8080/",
          "height": 124
        }
      },
      "cell_type": "code",
      "source": [
        "# dataset\n",
        "from torchvision import datasets, transforms\n",
        "\n",
        "train_data = datasets.MNIST('../data', train=True, download=True,\n",
        "                   transform=transforms.Compose([\n",
        "                       transforms.ToTensor(),\n",
        "                       # Standardize with mean and std computed on train set\n",
        "                       transforms.Normalize((0.1307,), (0.3081,)),\n",
        "                   ]))\n",
        "\n",
        "test_data = datasets.MNIST('../data', train=False,\n",
        "                   transform=transforms.Compose([\n",
        "                       transforms.ToTensor(),\n",
        "                       transforms.Normalize((0.1307,), (0.3081,))\n",
        "                   ]))\n"
      ],
      "execution_count": 0,
      "outputs": [
        {
          "output_type": "stream",
          "text": [
            "Downloading http://yann.lecun.com/exdb/mnist/train-images-idx3-ubyte.gz\n",
            "Downloading http://yann.lecun.com/exdb/mnist/train-labels-idx1-ubyte.gz\n",
            "Downloading http://yann.lecun.com/exdb/mnist/t10k-images-idx3-ubyte.gz\n",
            "Downloading http://yann.lecun.com/exdb/mnist/t10k-labels-idx1-ubyte.gz\n",
            "Processing...\n",
            "Done!\n"
          ],
          "name": "stdout"
        }
      ]
    },
    {
      "metadata": {
        "id": "lknHPBxSe3dA",
        "colab_type": "code",
        "colab": {}
      },
      "cell_type": "code",
      "source": [
        "# size of the scratch training set TO OVERFIT\n",
        "n_scratch = 64\n",
        "\n",
        "# This parameter influences optimization\n",
        "batch_size = 64\n",
        "# This is just for evaluation, we want is as big as the GPU can support\n",
        "batch_size_eval = 512\n",
        "\n",
        "\n",
        "indices = list(range(len(train_data)))\n",
        "random.shuffle(indices)"
      ],
      "execution_count": 0,
      "outputs": []
    },
    {
      "metadata": {
        "id": "srANHG5hvku2",
        "colab_type": "code",
        "colab": {}
      },
      "cell_type": "code",
      "source": [
        ""
      ],
      "execution_count": 0,
      "outputs": []
    },
    {
      "metadata": {
        "id": "FwMOe_VkvneF",
        "colab_type": "text"
      },
      "cell_type": "markdown",
      "source": [
        "## Data Loading\n",
        "\n",
        "While `Dataset` holds the data, we use `DataLoader` to choose how we extract the data and turn it into inputs we feed our model.\n",
        "\n",
        "Our `sampler` class decides how we take the data from the `Dataset`, from shuffling to subsets, see [the docs](https://pytorch.org/docs/stable/data.html) for more info"
      ]
    },
    {
      "metadata": {
        "id": "pr3AIrdce3dC",
        "colab_type": "code",
        "colab": {}
      },
      "cell_type": "code",
      "source": [
        "from torch.utils.data import DataLoader\n",
        "from torch.utils.data.sampler import (SubsetRandomSampler,\n",
        "                                      RandomSampler)\n",
        "\n",
        "# This is the subset of MNIST we want to overfit\n",
        "scratch_loader = DataLoader(\n",
        "    train_data,\n",
        "    batch_size=batch_size,\n",
        "    # The sampler is an easy way to say that we're using the elements\n",
        "    # `indices[:n_scratch]` for this loader\n",
        "    sampler=SubsetRandomSampler(indices[:n_scratch]),\n",
        "    num_workers=1,\n",
        "    pin_memory=use_cuda\n",
        ")"
      ],
      "execution_count": 0,
      "outputs": []
    },
    {
      "metadata": {
        "id": "oI94_rCawyTL",
        "colab_type": "code",
        "colab": {}
      },
      "cell_type": "code",
      "source": [
        "# TODO: define your own data loader for the train, valid and test dataset \n",
        "# where n_valid is how many examples from the training data should be used for validation\n",
        "n_valid = 15000\n",
        "\n",
        "test_loader = DataLoader(\n",
        "    test_data,\n",
        "    batch_size=batch_size_eval,\n",
        "    sampler=RandomSampler(test_data),\n",
        "    num_workers=1,\n",
        "    pin_memory=use_cuda,\n",
        ")\n",
        "\n",
        "valid_loader = DataLoader(\n",
        "    train_data,\n",
        "    batch_size=batch_size,\n",
        "    # The sampler is an easy way to say that we're using the elements\n",
        "    # `indices[:n_scratch]` for this loader\n",
        "    sampler=SubsetRandomSampler(indices[:n_valid]),\n",
        "    num_workers=1,\n",
        "    pin_memory=use_cuda\n",
        ")\n",
        "\n",
        "train_loader = DataLoader(\n",
        "    train_data,\n",
        "    batch_size=batch_size,\n",
        "    # The sampler is an easy way to say that we're using the elements\n",
        "    # `indices[:n_scratch]` for this loader\n",
        "    sampler=SubsetRandomSampler(indices[n_valid:]),\n",
        "    num_workers=1,\n",
        "    pin_memory=use_cuda\n",
        ")\n",
        "\n",
        "# total = len(train_data)\n",
        "# n_train = total - n_valid\n",
        "# valid_data, training_data = random_split(train_data, [n_valid, n_train])"
      ],
      "execution_count": 0,
      "outputs": []
    },
    {
      "metadata": {
        "id": "mgtrN3TANKPj",
        "colab_type": "code",
        "outputId": "dfbd0a44-97aa-4d4a-e2a7-cd0ea6841fbf",
        "colab": {
          "base_uri": "https://localhost:8080/",
          "height": 69
        }
      },
      "cell_type": "code",
      "source": [
        "for i,j in enumerate([(1,2) , (2, 3), ('a', 'b')]):\n",
        "  print(j, i)\n",
        "  "
      ],
      "execution_count": 0,
      "outputs": [
        {
          "output_type": "stream",
          "text": [
            "(1, 2) 0\n",
            "(2, 3) 1\n",
            "('a', 'b') 2\n"
          ],
          "name": "stdout"
        }
      ]
    },
    {
      "metadata": {
        "id": "wFJcFGi6e3dG",
        "colab_type": "code",
        "outputId": "cae39be0-a091-4ba9-8660-cd9e346aa13d",
        "colab": {
          "base_uri": "https://localhost:8080/",
          "height": 301
        }
      },
      "cell_type": "code",
      "source": [
        "# visualize and understand the data\n",
        "for inputs, targets in valid_loader:\n",
        "    print(f\"This is the shape of one batch of inputs {inputs.shape}\")\n",
        "    print(f\"This is the shape of one batch of targets {targets.shape}\")\n",
        "\n",
        "#           \" What is the meaning of each dimension?\")\n",
        "#     print(\"target\", targets.shape, targets)\n",
        "    img = inputs[0,0]\n",
        "    plt.imshow(img, cmap='Greys_r')\n",
        "    break"
      ],
      "execution_count": 0,
      "outputs": [
        {
          "output_type": "stream",
          "text": [
            "This is the shape of one batch of inputs torch.Size([64, 1, 28, 28])\n",
            "This is the shape of one batch of targets torch.Size([64])\n"
          ],
          "name": "stdout"
        },
        {
          "output_type": "display_data",
          "data": {
            "image/png": "[encoded data removed]",
            "text/plain": [
              "<matplotlib.figure.Figure at 0x7f4400968f28>"
            ]
          },
          "metadata": {
            "tags": []
          }
        }
      ]
    },
    {
      "metadata": {
        "id": "uU4lapoWe3dL",
        "colab_type": "text"
      },
      "cell_type": "markdown",
      "source": [
        "## Models / Modèles\n",
        "You can find below a basic CNN. You will have to define your own model a bit later. First let's try to train this one!\n",
        "\n",
        "Vous avez ci-dessous un CNN élémentaire. Vous devrez définir votre propre modèle un peu plus tard. Pour l'instant essayons déjà d'entraîner celui-ci."
      ]
    },
    {
      "metadata": {
        "id": "30OitDs4e3dM",
        "colab_type": "code",
        "colab": {}
      },
      "cell_type": "code",
      "source": [
        "class BasicNet(nn.Module):\n",
        "    \"\"\"Affordable convolutions for the people.\"\"\"\n",
        "    \n",
        "    def __init__(self):\n",
        "        super().__init__()\n",
        "        self.conv1 = nn.Conv2d(1, 32, 5, padding=2)\n",
        "        self.conv2 = nn.Conv2d(32, 64, 5, padding=2)\n",
        "        self.fc = nn.Linear(64*7*7, 10)\n",
        "\n",
        "    def forward(self, x):\n",
        "        # x is [batch_size, channels, heigth, width] = [bs, 1, 28, 28]\n",
        "        x = F.relu(self.conv1(x))\n",
        "        x = F.max_pool2d(x, 2) \n",
        "        # x is [bs, 32, 14, 14]\n",
        "        x = F.relu(self.conv2(x))\n",
        "        x = F.max_pool2d(x, 2) \n",
        "        # x is [bs, 64, 7, 7]\n",
        "        x = x.view(x.size(0), -1) # flatten\n",
        "        x = F.relu(self.fc(x))\n",
        "        return x\n",
        "    "
      ],
      "execution_count": 0,
      "outputs": []
    },
    {
      "metadata": {
        "id": "LrCD4Mjfe3dO",
        "colab_type": "text"
      },
      "cell_type": "markdown",
      "source": [
        "## Training / Entraînement\n",
        "\n",
        "You have to define general training and testing loops that can be applied to any pytorch module.\n",
        "\n",
        "Vous devez définir des boucles d'entraînement et de test générales qui s'appliquent à n'importe quel module pytorch."
      ]
    },
    {
      "metadata": {
        "id": "Agd2qklAe3dP",
        "colab_type": "code",
        "colab": {}
      },
      "cell_type": "code",
      "source": [
        "# Surrogate loss used for training\n",
        "loss_fn = nn.CrossEntropyLoss()\n",
        "test_loss_fn = nn.CrossEntropyLoss(reduction='sum')\n",
        "\n",
        "# spot to save your learning curves, and potentially checkpoint your models\n",
        "savedir = 'results'\n",
        "if not os.path.exists(savedir):\n",
        "    os.makedirs(savedir)"
      ],
      "execution_count": 0,
      "outputs": []
    },
    {
      "metadata": {
        "id": "6d6q1p3Ee3dS",
        "colab_type": "code",
        "colab": {}
      },
      "cell_type": "code",
      "source": [
        "def train(model,train_loader, optimizer, epoch ):\n",
        "    \"\"\"Perform one epoch of training.\"\"\"\n",
        "    model.train()\n",
        "    \n",
        "    for batch_idx, (inputs, target) in enumerate(train_loader):\n",
        "        # TODO: code this training loop\n",
        "        loss = torch.tensor([0]) \n",
        "        \n",
        "        if batch_idx % 10 == 0:\n",
        "            print('Train Epoch: {} [{}/{} ({:.0f}%)]\\tLoss: {:.6f}'.format(\n",
        "                epoch, batch_idx * len(inputs), len(train_loader) *len(inputs) ,\n",
        "                100. * batch_idx / len(train_loader), loss.item()))\n",
        "            "
      ],
      "execution_count": 0,
      "outputs": []
    },
    {
      "metadata": {
        "id": "ls48bZZGe3dU",
        "colab_type": "code",
        "colab": {}
      },
      "cell_type": "code",
      "source": [
        "def test(model, test_loader):\n",
        "    \"\"\"Evaluate the model by doing one pass over a dataset\"\"\"\n",
        "    model.eval()\n",
        "    \n",
        "    test_loss = 0\n",
        "    correct = 0\n",
        "    test_size = 0.1\n",
        "    \n",
        "    with torch.no_grad(): # save some computations\n",
        "      \n",
        "        for inputs, target in test_loader:\n",
        "            # TODO: code the evaluation loop\n",
        "            pass\n",
        "\n",
        "    test_loss /= test_size\n",
        "    accuracy = correct / test_size\n",
        "    print('Test set: Average loss: {:.4f}, Accuracy: {}/{} ({:.0f}%)\\n'.format(\n",
        "        test_loss, correct, test_size,\n",
        "        100. * accuracy))\n",
        "    \n",
        "    return test_loss, accuracy"
      ],
      "execution_count": 0,
      "outputs": []
    },
    {
      "metadata": {
        "id": "oDTy5iKHe3dY",
        "colab_type": "code",
        "outputId": "c9399014-de15-43cf-95b1-df02c5113403",
        "colab": {
          "base_uri": "https://localhost:8080/",
          "height": 629
        }
      },
      "cell_type": "code",
      "source": [
        "model = BasicNet()\n",
        "\n",
        "lr = 0.0005\n",
        "optimizer = optim.Adam(model.parameters(), lr=lr)\n",
        "\n",
        "results = {'name':'basic', 'lr': lr, 'loss': [], 'accuracy':[]}\n",
        "savefile = os.path.join(savedir, results['name']+str(results['lr'])+'.pkl' )\n",
        "\n",
        "for epoch in range(1, 10):\n",
        "    train(model, scratch_loader, optimizer, epoch)\n",
        "    loss, acc = test(model, scratch_loader)\n",
        "    \n",
        "    # save results every epoch\n",
        "    results['loss'].append(loss)\n",
        "    results['accuracy'].append(acc)\n",
        "    with open(savefile, 'wb') as fout:\n",
        "        pickle.dump(results, fout)"
      ],
      "execution_count": 0,
      "outputs": [
        {
          "output_type": "stream",
          "text": [
            "Train Epoch: 1 [0/64 (0%)]\tLoss: 0.000000\n",
            "\n",
            "Test set: Average loss: 0.0000, Accuracy: 0/0.1 (0%)\n",
            "\n",
            "Train Epoch: 2 [0/64 (0%)]\tLoss: 0.000000\n",
            "\n",
            "Test set: Average loss: 0.0000, Accuracy: 0/0.1 (0%)\n",
            "\n",
            "Train Epoch: 3 [0/64 (0%)]\tLoss: 0.000000\n",
            "\n",
            "Test set: Average loss: 0.0000, Accuracy: 0/0.1 (0%)\n",
            "\n",
            "Train Epoch: 4 [0/64 (0%)]\tLoss: 0.000000\n",
            "\n",
            "Test set: Average loss: 0.0000, Accuracy: 0/0.1 (0%)\n",
            "\n",
            "Train Epoch: 5 [0/64 (0%)]\tLoss: 0.000000\n",
            "\n",
            "Test set: Average loss: 0.0000, Accuracy: 0/0.1 (0%)\n",
            "\n",
            "Train Epoch: 6 [0/64 (0%)]\tLoss: 0.000000\n",
            "\n",
            "Test set: Average loss: 0.0000, Accuracy: 0/0.1 (0%)\n",
            "\n",
            "Train Epoch: 7 [0/64 (0%)]\tLoss: 0.000000\n",
            "\n",
            "Test set: Average loss: 0.0000, Accuracy: 0/0.1 (0%)\n",
            "\n",
            "Train Epoch: 8 [0/64 (0%)]\tLoss: 0.000000\n",
            "\n",
            "Test set: Average loss: 0.0000, Accuracy: 0/0.1 (0%)\n",
            "\n",
            "Train Epoch: 9 [0/64 (0%)]\tLoss: 0.000000\n",
            "\n",
            "Test set: Average loss: 0.0000, Accuracy: 0/0.1 (0%)\n",
            "\n"
          ],
          "name": "stdout"
        }
      ]
    },
    {
      "metadata": {
        "id": "0CvFTaNqe3dg",
        "colab_type": "text"
      },
      "cell_type": "markdown",
      "source": [
        "We have just applied our basic model on scratch_loader. A decent convnet with good parameters should be able to overfit this data easily.\n",
        "What happened ? What do you conclude ?\n",
        "\n",
        "On viens d'entraîner notre convnet de base sur scratch_loader. Un modèle décent devrait être capable de mémoriser ce dataset aisément. Que s'est-il passé? Qu'en concluez vous?\n",
        "\n",
        "\n",
        "## Build your model\n",
        "\n",
        "It's time to implement your own models to get the best clasification performance on MNIST.\n",
        "First, try to overfit scratch_loader, for larger and larger sizes. Once you succeed, replace it by the real loaders and classify these digits!\n",
        "You may consider the following ideas, ranked by relevance:\n",
        "\n",
        "* batch norm\n",
        "* more layers\n",
        "* skip connections\n",
        "* dropout (on the high level features)\n",
        "* data augmentation with `transforms.RandomRotation`or `transforms.RandomAffine` at the dataset creation time\n",
        "\n",
        "If you need some help to understand padding, stride etc..., [here](https://github.com/vdumoulin/conv_arithmetic) is very good resource from a Mila alumni.\n",
        "\n",
        "You can use the cell below to compare the learning curves of your models. Don't forget to change the `'name'`value in the `results`dictionary between each try.\n",
        "\n",
        "## Fabriquez votre modèle\n",
        "\n",
        "Vous devez maintenant implémenter votre propre modèle. Essayez d'abord de mémoriser scratch_loader. Ensuite essayez de bien classifier MNIST. Vous pouvez considérer les idées suivantes classées selon la préférence de l'auteur ce ces lignes:\n",
        "\n",
        "* normalisation de lot \n",
        "* réseau plus profond\n",
        "* connections sautées\n",
        "* abandon de neurones\n",
        "* augmentation de données avec les méthodes `transforms.RandomRotation`ou `transforms.RandomAffine`  lors de la création du jeux de données.\n",
        "\n",
        "Si vous ne connaissez pas ces notions, c'est normal. Regardez la version anglaise. \n",
        "Si vous avez voulez mieux comprendre le fonctionnement des couches convolutionnelles, regardez [ces merveilleux gifs](https://github.com/vdumoulin/conv_arithmetic) réalisés par un ancien du Mila.\n",
        "\n",
        "Vous pouvez utiliser la cellule ci-dessous pour comparer vos courbes d'apprentissages entre elles. N'oubliez pas de changer  la valeur `'name'` dans le dictionnaire `results`  entre chaque essais."
      ]
    },
    {
      "metadata": {
        "id": "Etp_txmWe3dg",
        "colab_type": "code",
        "outputId": "2d556395-546c-41fc-a75f-3807cd6ba580",
        "colab": {
          "base_uri": "https://localhost:8080/",
          "height": 296
        }
      },
      "cell_type": "code",
      "source": [
        "# PLOTTING\n",
        "fig, (ax1, ax2) = plt.subplots(1, 2, figsize=(10, 4))\n",
        "\n",
        "for filename in os.listdir(savedir):\n",
        "    if filename.endswith('.pkl'):\n",
        "        with open(os.path.join(savedir, filename),'rb') as fin:\n",
        "            results = pickle.load(fin)\n",
        "            ax1.plot(results['loss'])\n",
        "            ax1.set_ylabel('cross entropy')\n",
        "            ax1.set_xlabel('epochs')\n",
        "            \n",
        "            ax2.plot(results['accuracy'], label = filename[:-4])\n",
        "            ax2.set_ylabel('accuracy')\n",
        "            ax2.set_xlabel('epochs')\n",
        "            \n",
        "plt.legend()"
      ],
      "execution_count": 0,
      "outputs": [
        {
          "output_type": "execute_result",
          "data": {
            "text/plain": [
              "<matplotlib.legend.Legend at 0x7fc1c18ddac8>"
            ]
          },
          "metadata": {
            "tags": []
          },
          "execution_count": 32
        },
        {
          "output_type": "display_data",
          "data": {
            "image/png": "[encoded data removed]",
            "text/plain": [
              "<matplotlib.figure.Figure at 0x7fc1c41ba550>"
            ]
          },
          "metadata": {
            "tags": []
          }
        }
      ]
    },
    {
      "metadata": {
        "id": "sHMhlY9re3dl",
        "colab_type": "code",
        "colab": {}
      },
      "cell_type": "code",
      "source": [
        "class AwesomeNet(nn.Module):\n",
        "    \"\"\"The MNIST killer net.\"\"\"\n",
        "    \n",
        "    def __init__(self):\n",
        "        super().__init__()\n",
        "        self.fc = nn.Linear(28*28, 10)\n",
        "    \n",
        "    def forward(self, x):\n",
        "        return self.fc(x.view(-1, 28*28))\n",
        "    "
      ],
      "execution_count": 0,
      "outputs": []
    },
    {
      "metadata": {
        "id": "nkfMFV1-e3dq",
        "colab_type": "code",
        "outputId": "bdd99d4f-69c4-4f09-9c00-106e86b14abf",
        "colab": {
          "base_uri": "https://localhost:8080/",
          "height": 243
        }
      },
      "cell_type": "code",
      "source": [
        "# TRAINING\n",
        "model = AwesomeNet()\n",
        "\n",
        "lr = 0.005\n",
        "optimizer = optim.Adam(model.parameters(), lr=lr)\n",
        "\n",
        "results = {'name':'awesome', 'lr': lr, 'loss': [], 'accuracy':[]}\n",
        "savefile = os.path.join(savedir, results['name']+str(results['lr'])+'.pkl' )\n",
        "\n",
        "for epoch in range(1, 10):\n",
        "    train(model, scratch_loader, optimizer, epoch)\n",
        "    loss, acc = test(model, scratch_loader)\n",
        "    \n",
        "    # save results\n",
        "    results['loss'].append(loss)\n",
        "    results['accuracy'].append(acc)\n",
        "    with open(savefile, 'wb') as fout:\n",
        "        pickle.dump(results, fout)"
      ],
      "execution_count": 0,
      "outputs": [
        {
          "output_type": "error",
          "ename": "NameError",
          "evalue": "ignored",
          "traceback": [
            "\u001b[0;31m---------------------------------------------------------------------------\u001b[0m",
            "\u001b[0;31mNameError\u001b[0m                                 Traceback (most recent call last)",
            "\u001b[0;32m<ipython-input-1-7999e05f1c8b>\u001b[0m in \u001b[0;36m<module>\u001b[0;34m()\u001b[0m\n\u001b[0;32m----> 1\u001b[0;31m \u001b[0mmodel\u001b[0m \u001b[0;34m=\u001b[0m \u001b[0mAwesomeNet\u001b[0m\u001b[0;34m(\u001b[0m\u001b[0;34m)\u001b[0m\u001b[0;34m\u001b[0m\u001b[0m\n\u001b[0m\u001b[1;32m      2\u001b[0m \u001b[0;34m\u001b[0m\u001b[0m\n\u001b[1;32m      3\u001b[0m \u001b[0mlr\u001b[0m \u001b[0;34m=\u001b[0m \u001b[0;36m0.005\u001b[0m\u001b[0;34m\u001b[0m\u001b[0m\n\u001b[1;32m      4\u001b[0m \u001b[0moptimizer\u001b[0m \u001b[0;34m=\u001b[0m \u001b[0moptim\u001b[0m\u001b[0;34m.\u001b[0m\u001b[0mAdam\u001b[0m\u001b[0;34m(\u001b[0m\u001b[0mmodel\u001b[0m\u001b[0;34m.\u001b[0m\u001b[0mparameters\u001b[0m\u001b[0;34m(\u001b[0m\u001b[0;34m)\u001b[0m\u001b[0;34m,\u001b[0m \u001b[0mlr\u001b[0m\u001b[0;34m=\u001b[0m\u001b[0mlr\u001b[0m\u001b[0;34m)\u001b[0m\u001b[0;34m\u001b[0m\u001b[0m\n\u001b[1;32m      5\u001b[0m \u001b[0;34m\u001b[0m\u001b[0m\n",
            "\u001b[0;31mNameError\u001b[0m: name 'AwesomeNet' is not defined"
          ]
        }
      ]
    },
    {
      "metadata": {
        "id": "qRtZ1SnTe3dz",
        "colab_type": "text"
      },
      "cell_type": "markdown",
      "source": [
        "If you want to learn more about Pytorch, here is a very comprehensive [tutorial](https://nbviewer.jupyter.org/github/ds4dm/tipsntricks/blob/master/pytorch/tutorial.ipynb) made by Mila for Mila. You are encouraged to look at it **after** this lab session."
      ]
    },
    {
      "metadata": {
        "id": "Rc6WOP4We3d1",
        "colab_type": "code",
        "colab": {}
      },
      "cell_type": "code",
      "source": [
        ""
      ],
      "execution_count": 0,
      "outputs": []
    }
  ]
}